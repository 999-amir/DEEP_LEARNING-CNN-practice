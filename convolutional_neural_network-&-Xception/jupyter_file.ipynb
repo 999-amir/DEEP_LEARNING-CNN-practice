{
  "cells": [
    {
      "cell_type": "markdown",
      "id": "3f33d5e2-711b-4845-825c-0f184fe17025",
      "metadata": {
        "id": "3f33d5e2-711b-4845-825c-0f184fe17025"
      },
      "source": [
        "<div class=\"text-info\">\n",
        "    <div class=\"text-center\">\n",
        "        <div class=\"h2\">season 4 - project 2 - convolutional neural network</div>\n",
        "        <div class=\"h3\">maktabkhooneh - <span class=\"text-danger\">deep learning</span></div>\n",
        "    </div>\n",
        "    <div class=\"h4\">Name: Amir Mohammad Arghavany</div>\n",
        "    <div class=\"h4\">Email: amir.arghavoon@gmail.com</div>\n",
        "    <div class=\"h4\">dataset: CIFAR10</div>\n",
        "</div>"
      ]
    },
    {
      "cell_type": "markdown",
      "id": "b8397ab4-f969-43f8-9828-d321ebb910c2",
      "metadata": {
        "id": "b8397ab4-f969-43f8-9828-d321ebb910c2"
      },
      "source": [
        "# import packages"
      ]
    },
    {
      "cell_type": "code",
      "execution_count": 1,
      "id": "77c8d94d-6ab4-463e-8fdc-dddd4a4d812a",
      "metadata": {
        "id": "77c8d94d-6ab4-463e-8fdc-dddd4a4d812a"
      },
      "outputs": [],
      "source": [
        "# base\n",
        "import numpy as np\n",
        "import pandas as pd\n",
        "import time\n",
        "\n",
        "# load dataset\n",
        "from keras.datasets import cifar10\n",
        "\n",
        "# visualization\n",
        "import matplotlib.pyplot as plt\n",
        "import plotly.express as px\n",
        "\n",
        "# train, test\n",
        "from sklearn.model_selection import train_test_split\n",
        "\n",
        "# normalization\n",
        "from sklearn.preprocessing import MinMaxScaler\n",
        "\n",
        "# learning\n",
        "from tensorflow import keras\n",
        "\n",
        "# evaluate metrics\n",
        "from sklearn.metrics import classification_report"
      ]
    },
    {
      "cell_type": "markdown",
      "id": "23456f46-5420-42d3-92a0-95f7009642f8",
      "metadata": {
        "id": "23456f46-5420-42d3-92a0-95f7009642f8"
      },
      "source": [
        "# load dataset"
      ]
    },
    {
      "cell_type": "code",
      "execution_count": 2,
      "id": "def72383-5f36-4288-9225-d8b790de6c53",
      "metadata": {
        "colab": {
          "base_uri": "https://localhost:8080/"
        },
        "id": "def72383-5f36-4288-9225-d8b790de6c53",
        "outputId": "10681c88-fbdd-4ff1-bd9b-3f0de18e51fe"
      },
      "outputs": [
        {
          "output_type": "stream",
          "name": "stdout",
          "text": [
            "Downloading data from https://www.cs.toronto.edu/~kriz/cifar-10-python.tar.gz\n",
            "170498071/170498071 [==============================] - 13s 0us/step\n"
          ]
        }
      ],
      "source": [
        "# load dataset\n",
        "(X_train, Y_train), (X_test, Y_test) = cifar10.load_data()"
      ]
    },
    {
      "cell_type": "code",
      "execution_count": 3,
      "id": "b0982b7b-a14c-4cc1-ab45-aa8f3e01cec7",
      "metadata": {
        "colab": {
          "base_uri": "https://localhost:8080/"
        },
        "id": "b0982b7b-a14c-4cc1-ab45-aa8f3e01cec7",
        "outputId": "1f70cebb-2692-402b-8a03-6fb36decf384"
      },
      "outputs": [
        {
          "output_type": "stream",
          "name": "stdout",
          "text": [
            "test size: 16.67 %\n",
            "train size: 83.33 %\n"
          ]
        }
      ],
      "source": [
        "# train, test size\n",
        "test_size = np.round(len(Y_test)/(len(Y_train)+len(Y_test))*100, 2)\n",
        "print('test size:', test_size, '%')\n",
        "print('train size:', 100-test_size, '%')"
      ]
    },
    {
      "cell_type": "code",
      "execution_count": 4,
      "id": "5b46f635-72f1-40a9-a59e-8b9d2a1f503a",
      "metadata": {
        "colab": {
          "base_uri": "https://localhost:8080/",
          "height": 363
        },
        "id": "5b46f635-72f1-40a9-a59e-8b9d2a1f503a",
        "outputId": "be75a669-8b50-4e53-ac58-85ed4cad216e"
      },
      "outputs": [
        {
          "output_type": "execute_result",
          "data": {
            "text/plain": [
              "       y_name\n",
              "0    airplane\n",
              "1  automobile\n",
              "2        bird\n",
              "3         cat\n",
              "4        deer\n",
              "5         dog\n",
              "6       froge\n",
              "7       horse\n",
              "8        ship\n",
              "9       truck"
            ],
            "text/html": [
              "\n",
              "  <div id=\"df-9150b536-7483-4e6f-ae42-a6c2b6eaf942\" class=\"colab-df-container\">\n",
              "    <div>\n",
              "<style scoped>\n",
              "    .dataframe tbody tr th:only-of-type {\n",
              "        vertical-align: middle;\n",
              "    }\n",
              "\n",
              "    .dataframe tbody tr th {\n",
              "        vertical-align: top;\n",
              "    }\n",
              "\n",
              "    .dataframe thead th {\n",
              "        text-align: right;\n",
              "    }\n",
              "</style>\n",
              "<table border=\"1\" class=\"dataframe\">\n",
              "  <thead>\n",
              "    <tr style=\"text-align: right;\">\n",
              "      <th></th>\n",
              "      <th>y_name</th>\n",
              "    </tr>\n",
              "  </thead>\n",
              "  <tbody>\n",
              "    <tr>\n",
              "      <th>0</th>\n",
              "      <td>airplane</td>\n",
              "    </tr>\n",
              "    <tr>\n",
              "      <th>1</th>\n",
              "      <td>automobile</td>\n",
              "    </tr>\n",
              "    <tr>\n",
              "      <th>2</th>\n",
              "      <td>bird</td>\n",
              "    </tr>\n",
              "    <tr>\n",
              "      <th>3</th>\n",
              "      <td>cat</td>\n",
              "    </tr>\n",
              "    <tr>\n",
              "      <th>4</th>\n",
              "      <td>deer</td>\n",
              "    </tr>\n",
              "    <tr>\n",
              "      <th>5</th>\n",
              "      <td>dog</td>\n",
              "    </tr>\n",
              "    <tr>\n",
              "      <th>6</th>\n",
              "      <td>froge</td>\n",
              "    </tr>\n",
              "    <tr>\n",
              "      <th>7</th>\n",
              "      <td>horse</td>\n",
              "    </tr>\n",
              "    <tr>\n",
              "      <th>8</th>\n",
              "      <td>ship</td>\n",
              "    </tr>\n",
              "    <tr>\n",
              "      <th>9</th>\n",
              "      <td>truck</td>\n",
              "    </tr>\n",
              "  </tbody>\n",
              "</table>\n",
              "</div>\n",
              "    <div class=\"colab-df-buttons\">\n",
              "\n",
              "  <div class=\"colab-df-container\">\n",
              "    <button class=\"colab-df-convert\" onclick=\"convertToInteractive('df-9150b536-7483-4e6f-ae42-a6c2b6eaf942')\"\n",
              "            title=\"Convert this dataframe to an interactive table.\"\n",
              "            style=\"display:none;\">\n",
              "\n",
              "  <svg xmlns=\"http://www.w3.org/2000/svg\" height=\"24px\" viewBox=\"0 -960 960 960\">\n",
              "    <path d=\"M120-120v-720h720v720H120Zm60-500h600v-160H180v160Zm220 220h160v-160H400v160Zm0 220h160v-160H400v160ZM180-400h160v-160H180v160Zm440 0h160v-160H620v160ZM180-180h160v-160H180v160Zm440 0h160v-160H620v160Z\"/>\n",
              "  </svg>\n",
              "    </button>\n",
              "\n",
              "  <style>\n",
              "    .colab-df-container {\n",
              "      display:flex;\n",
              "      gap: 12px;\n",
              "    }\n",
              "\n",
              "    .colab-df-convert {\n",
              "      background-color: #E8F0FE;\n",
              "      border: none;\n",
              "      border-radius: 50%;\n",
              "      cursor: pointer;\n",
              "      display: none;\n",
              "      fill: #1967D2;\n",
              "      height: 32px;\n",
              "      padding: 0 0 0 0;\n",
              "      width: 32px;\n",
              "    }\n",
              "\n",
              "    .colab-df-convert:hover {\n",
              "      background-color: #E2EBFA;\n",
              "      box-shadow: 0px 1px 2px rgba(60, 64, 67, 0.3), 0px 1px 3px 1px rgba(60, 64, 67, 0.15);\n",
              "      fill: #174EA6;\n",
              "    }\n",
              "\n",
              "    .colab-df-buttons div {\n",
              "      margin-bottom: 4px;\n",
              "    }\n",
              "\n",
              "    [theme=dark] .colab-df-convert {\n",
              "      background-color: #3B4455;\n",
              "      fill: #D2E3FC;\n",
              "    }\n",
              "\n",
              "    [theme=dark] .colab-df-convert:hover {\n",
              "      background-color: #434B5C;\n",
              "      box-shadow: 0px 1px 3px 1px rgba(0, 0, 0, 0.15);\n",
              "      filter: drop-shadow(0px 1px 2px rgba(0, 0, 0, 0.3));\n",
              "      fill: #FFFFFF;\n",
              "    }\n",
              "  </style>\n",
              "\n",
              "    <script>\n",
              "      const buttonEl =\n",
              "        document.querySelector('#df-9150b536-7483-4e6f-ae42-a6c2b6eaf942 button.colab-df-convert');\n",
              "      buttonEl.style.display =\n",
              "        google.colab.kernel.accessAllowed ? 'block' : 'none';\n",
              "\n",
              "      async function convertToInteractive(key) {\n",
              "        const element = document.querySelector('#df-9150b536-7483-4e6f-ae42-a6c2b6eaf942');\n",
              "        const dataTable =\n",
              "          await google.colab.kernel.invokeFunction('convertToInteractive',\n",
              "                                                    [key], {});\n",
              "        if (!dataTable) return;\n",
              "\n",
              "        const docLinkHtml = 'Like what you see? Visit the ' +\n",
              "          '<a target=\"_blank\" href=https://colab.research.google.com/notebooks/data_table.ipynb>data table notebook</a>'\n",
              "          + ' to learn more about interactive tables.';\n",
              "        element.innerHTML = '';\n",
              "        dataTable['output_type'] = 'display_data';\n",
              "        await google.colab.output.renderOutput(dataTable, element);\n",
              "        const docLink = document.createElement('div');\n",
              "        docLink.innerHTML = docLinkHtml;\n",
              "        element.appendChild(docLink);\n",
              "      }\n",
              "    </script>\n",
              "  </div>\n",
              "\n",
              "\n",
              "<div id=\"df-c3aaf6ee-ae11-48e0-afb3-43b68ab61913\">\n",
              "  <button class=\"colab-df-quickchart\" onclick=\"quickchart('df-c3aaf6ee-ae11-48e0-afb3-43b68ab61913')\"\n",
              "            title=\"Suggest charts\"\n",
              "            style=\"display:none;\">\n",
              "\n",
              "<svg xmlns=\"http://www.w3.org/2000/svg\" height=\"24px\"viewBox=\"0 0 24 24\"\n",
              "     width=\"24px\">\n",
              "    <g>\n",
              "        <path d=\"M19 3H5c-1.1 0-2 .9-2 2v14c0 1.1.9 2 2 2h14c1.1 0 2-.9 2-2V5c0-1.1-.9-2-2-2zM9 17H7v-7h2v7zm4 0h-2V7h2v10zm4 0h-2v-4h2v4z\"/>\n",
              "    </g>\n",
              "</svg>\n",
              "  </button>\n",
              "\n",
              "<style>\n",
              "  .colab-df-quickchart {\n",
              "      --bg-color: #E8F0FE;\n",
              "      --fill-color: #1967D2;\n",
              "      --hover-bg-color: #E2EBFA;\n",
              "      --hover-fill-color: #174EA6;\n",
              "      --disabled-fill-color: #AAA;\n",
              "      --disabled-bg-color: #DDD;\n",
              "  }\n",
              "\n",
              "  [theme=dark] .colab-df-quickchart {\n",
              "      --bg-color: #3B4455;\n",
              "      --fill-color: #D2E3FC;\n",
              "      --hover-bg-color: #434B5C;\n",
              "      --hover-fill-color: #FFFFFF;\n",
              "      --disabled-bg-color: #3B4455;\n",
              "      --disabled-fill-color: #666;\n",
              "  }\n",
              "\n",
              "  .colab-df-quickchart {\n",
              "    background-color: var(--bg-color);\n",
              "    border: none;\n",
              "    border-radius: 50%;\n",
              "    cursor: pointer;\n",
              "    display: none;\n",
              "    fill: var(--fill-color);\n",
              "    height: 32px;\n",
              "    padding: 0;\n",
              "    width: 32px;\n",
              "  }\n",
              "\n",
              "  .colab-df-quickchart:hover {\n",
              "    background-color: var(--hover-bg-color);\n",
              "    box-shadow: 0 1px 2px rgba(60, 64, 67, 0.3), 0 1px 3px 1px rgba(60, 64, 67, 0.15);\n",
              "    fill: var(--button-hover-fill-color);\n",
              "  }\n",
              "\n",
              "  .colab-df-quickchart-complete:disabled,\n",
              "  .colab-df-quickchart-complete:disabled:hover {\n",
              "    background-color: var(--disabled-bg-color);\n",
              "    fill: var(--disabled-fill-color);\n",
              "    box-shadow: none;\n",
              "  }\n",
              "\n",
              "  .colab-df-spinner {\n",
              "    border: 2px solid var(--fill-color);\n",
              "    border-color: transparent;\n",
              "    border-bottom-color: var(--fill-color);\n",
              "    animation:\n",
              "      spin 1s steps(1) infinite;\n",
              "  }\n",
              "\n",
              "  @keyframes spin {\n",
              "    0% {\n",
              "      border-color: transparent;\n",
              "      border-bottom-color: var(--fill-color);\n",
              "      border-left-color: var(--fill-color);\n",
              "    }\n",
              "    20% {\n",
              "      border-color: transparent;\n",
              "      border-left-color: var(--fill-color);\n",
              "      border-top-color: var(--fill-color);\n",
              "    }\n",
              "    30% {\n",
              "      border-color: transparent;\n",
              "      border-left-color: var(--fill-color);\n",
              "      border-top-color: var(--fill-color);\n",
              "      border-right-color: var(--fill-color);\n",
              "    }\n",
              "    40% {\n",
              "      border-color: transparent;\n",
              "      border-right-color: var(--fill-color);\n",
              "      border-top-color: var(--fill-color);\n",
              "    }\n",
              "    60% {\n",
              "      border-color: transparent;\n",
              "      border-right-color: var(--fill-color);\n",
              "    }\n",
              "    80% {\n",
              "      border-color: transparent;\n",
              "      border-right-color: var(--fill-color);\n",
              "      border-bottom-color: var(--fill-color);\n",
              "    }\n",
              "    90% {\n",
              "      border-color: transparent;\n",
              "      border-bottom-color: var(--fill-color);\n",
              "    }\n",
              "  }\n",
              "</style>\n",
              "\n",
              "  <script>\n",
              "    async function quickchart(key) {\n",
              "      const quickchartButtonEl =\n",
              "        document.querySelector('#' + key + ' button');\n",
              "      quickchartButtonEl.disabled = true;  // To prevent multiple clicks.\n",
              "      quickchartButtonEl.classList.add('colab-df-spinner');\n",
              "      try {\n",
              "        const charts = await google.colab.kernel.invokeFunction(\n",
              "            'suggestCharts', [key], {});\n",
              "      } catch (error) {\n",
              "        console.error('Error during call to suggestCharts:', error);\n",
              "      }\n",
              "      quickchartButtonEl.classList.remove('colab-df-spinner');\n",
              "      quickchartButtonEl.classList.add('colab-df-quickchart-complete');\n",
              "    }\n",
              "    (() => {\n",
              "      let quickchartButtonEl =\n",
              "        document.querySelector('#df-c3aaf6ee-ae11-48e0-afb3-43b68ab61913 button');\n",
              "      quickchartButtonEl.style.display =\n",
              "        google.colab.kernel.accessAllowed ? 'block' : 'none';\n",
              "    })();\n",
              "  </script>\n",
              "</div>\n",
              "    </div>\n",
              "  </div>\n"
            ],
            "application/vnd.google.colaboratory.intrinsic+json": {
              "type": "dataframe",
              "summary": "{\n  \"name\": \"pd\",\n  \"rows\": 10,\n  \"fields\": [\n    {\n      \"column\": \"y_name\",\n      \"properties\": {\n        \"dtype\": \"string\",\n        \"num_unique_values\": 10,\n        \"samples\": [\n          \"ship\",\n          \"automobile\",\n          \"dog\"\n        ],\n        \"semantic_type\": \"\",\n        \"description\": \"\"\n      }\n    }\n  ]\n}"
            }
          },
          "metadata": {},
          "execution_count": 4
        }
      ],
      "source": [
        "# what y stand for?\n",
        "y_name = ['airplane', 'automobile', 'bird', 'cat', 'deer', 'dog', 'froge', 'horse', 'ship', 'truck']\n",
        "pd.DataFrame(y_name, columns=['y_name'])"
      ]
    },
    {
      "cell_type": "markdown",
      "id": "41a83a88-4aa4-44cc-89d2-608277bccfec",
      "metadata": {
        "id": "41a83a88-4aa4-44cc-89d2-608277bccfec"
      },
      "source": [
        "# train & test & validation"
      ]
    },
    {
      "cell_type": "code",
      "execution_count": 5,
      "id": "def201e6-da51-4dcf-9f6c-ea221bde8e74",
      "metadata": {
        "colab": {
          "base_uri": "https://localhost:8080/"
        },
        "id": "def201e6-da51-4dcf-9f6c-ea221bde8e74",
        "outputId": "9b349e9d-0de1-4496-974c-7e540d57471c"
      },
      "outputs": [
        {
          "output_type": "stream",
          "name": "stdout",
          "text": [
            "shape of x: (60000, 32, 32, 3)\n",
            "shape of y: (60000, 1)\n"
          ]
        }
      ],
      "source": [
        "# concat [x_train, x_test] & [y_train, y_test]\n",
        "X = np.concatenate((X_train, X_test), axis=0)\n",
        "Y = np.concatenate((Y_train, Y_test), axis=0)\n",
        "print('shape of x:', X.shape)\n",
        "print('shape of y:', Y.shape)"
      ]
    },
    {
      "cell_type": "code",
      "execution_count": 6,
      "id": "d338c6a7-6e00-4748-8254-f45810ba1cc9",
      "metadata": {
        "id": "d338c6a7-6e00-4748-8254-f45810ba1cc9"
      },
      "outputs": [],
      "source": [
        "# split with test size: 15%\n",
        "X_train, X_test, Y_train, Y_test = train_test_split(X, Y, random_state=42, test_size=0.15)"
      ]
    },
    {
      "cell_type": "code",
      "execution_count": 7,
      "id": "7e2d4908-402e-40f7-a534-a045441ca7fc",
      "metadata": {
        "id": "7e2d4908-402e-40f7-a534-a045441ca7fc"
      },
      "outputs": [],
      "source": [
        "# split with validation size: 10%\n",
        "X_train, X_val, Y_train, Y_val = train_test_split(X_train, Y_train, random_state=42, test_size=0.1)"
      ]
    },
    {
      "cell_type": "code",
      "execution_count": 8,
      "id": "4911ef57-3638-448f-be53-e0002b2855c3",
      "metadata": {
        "colab": {
          "base_uri": "https://localhost:8080/"
        },
        "id": "4911ef57-3638-448f-be53-e0002b2855c3",
        "outputId": "af5c46d2-8a11-4e79-ddf2-962dab94cc08"
      },
      "outputs": [
        {
          "output_type": "stream",
          "name": "stdout",
          "text": [
            "test size: 15.0 %\n",
            "validation size 8.5 %\n",
            "train size: 76.5 %\n"
          ]
        }
      ],
      "source": [
        "# train, test size\n",
        "test_size = np.round(len(Y_test)/(len(Y_train)+len(Y_test)+len(Y_val))*100, 2)\n",
        "validation_size = np.round(len(Y_val)/(len(Y_train)+len(Y_test)+len(Y_val))*100, 2)\n",
        "print('test size:', test_size, '%')\n",
        "print('validation size', validation_size, '%')\n",
        "print('train size:', 100-(test_size+validation_size), '%')"
      ]
    },
    {
      "cell_type": "markdown",
      "id": "527a8c77-81e1-49b0-acfb-57390c7c8fe7",
      "metadata": {
        "id": "527a8c77-81e1-49b0-acfb-57390c7c8fe7"
      },
      "source": [
        "# callbacks"
      ]
    },
    {
      "cell_type": "code",
      "execution_count": 9,
      "id": "c9a37b20-9739-4683-86fc-ca30a74877a0",
      "metadata": {
        "id": "c9a37b20-9739-4683-86fc-ca30a74877a0"
      },
      "outputs": [],
      "source": [
        "# earlystop\n",
        "earlystopping_callback = keras.callbacks.EarlyStopping(patience=10, restore_best_weights=True)"
      ]
    },
    {
      "cell_type": "markdown",
      "id": "5a6db1f9-2593-435a-8842-7d7d58afc902",
      "metadata": {
        "id": "5a6db1f9-2593-435a-8842-7d7d58afc902"
      },
      "source": [
        "# functions"
      ]
    },
    {
      "cell_type": "code",
      "execution_count": 10,
      "id": "5768c28b-aba4-4290-83dc-80960d0cd41b",
      "metadata": {
        "id": "5768c28b-aba4-4290-83dc-80960d0cd41b"
      },
      "outputs": [],
      "source": [
        "# metrics report\n",
        "def metrics_report(model, X_test, Y_test):\n",
        "    Y_pred = [pd.Series(i).idxmax() for i in model.predict(X_test)]\n",
        "    print(classification_report(Y_test, Y_pred))"
      ]
    },
    {
      "cell_type": "code",
      "execution_count": 11,
      "id": "ee0447c4-5fd1-4941-a5db-23126a463e0a",
      "metadata": {
        "id": "ee0447c4-5fd1-4941-a5db-23126a463e0a"
      },
      "outputs": [],
      "source": [
        "# learning runtime\n",
        "def learning_runtime(t1, t2):\n",
        "    print('learning runtime:', int(np.round(t2-t1)), 'sec')"
      ]
    },
    {
      "cell_type": "markdown",
      "id": "ed84026a-6a87-4b74-ada3-0cadd82d197c",
      "metadata": {
        "id": "ed84026a-6a87-4b74-ada3-0cadd82d197c"
      },
      "source": [
        "# _______________________________"
      ]
    },
    {
      "cell_type": "markdown",
      "id": "fa94db31-d1e3-43af-b0a5-740102644b52",
      "metadata": {
        "id": "fa94db31-d1e3-43af-b0a5-740102644b52"
      },
      "source": [
        "# DL - artificial neural network"
      ]
    },
    {
      "cell_type": "code",
      "execution_count": 12,
      "id": "3d814d93-bb9a-4c52-b86d-291f97515699",
      "metadata": {
        "id": "3d814d93-bb9a-4c52-b86d-291f97515699"
      },
      "outputs": [],
      "source": [
        "# create model\n",
        "model1 = keras.models.Sequential([\n",
        "    keras.layers.Flatten(input_shape=X_train.shape[1:]),\n",
        "    keras.layers.BatchNormalization(),\n",
        "    keras.layers.Dense(100, activation='elu'),\n",
        "    keras.layers.BatchNormalization(),\n",
        "    keras.layers.Dense(100, activation='elu'),\n",
        "    keras.layers.Dropout(0.2),\n",
        "    keras.layers.Dense(10, activation='softmax')\n",
        "])"
      ]
    },
    {
      "cell_type": "code",
      "execution_count": 13,
      "id": "45109d9c-85ac-4129-bf19-d20b8d8dfdba",
      "metadata": {
        "id": "45109d9c-85ac-4129-bf19-d20b8d8dfdba"
      },
      "outputs": [],
      "source": [
        "# compile model\n",
        "model1.compile(loss='sparse_categorical_crossentropy', metrics=['accuracy'], optimizer=keras.optimizers.Adam())"
      ]
    },
    {
      "cell_type": "code",
      "execution_count": 14,
      "id": "d9a5e938-5f8f-48d4-b51d-40db0b8f48e0",
      "metadata": {
        "scrolled": true,
        "colab": {
          "base_uri": "https://localhost:8080/"
        },
        "id": "d9a5e938-5f8f-48d4-b51d-40db0b8f48e0",
        "outputId": "2cd4fbe8-78e7-4f43-b6d0-8f665620daf7"
      },
      "outputs": [
        {
          "output_type": "stream",
          "name": "stdout",
          "text": [
            "Epoch 1/70\n",
            "1435/1435 [==============================] - 12s 4ms/step - loss: 1.7548 - accuracy: 0.3763 - val_loss: 1.5226 - val_accuracy: 0.4618\n",
            "Epoch 2/70\n",
            "1435/1435 [==============================] - 7s 5ms/step - loss: 1.5549 - accuracy: 0.4485 - val_loss: 1.4441 - val_accuracy: 0.4888\n",
            "Epoch 3/70\n",
            "1435/1435 [==============================] - 6s 4ms/step - loss: 1.4770 - accuracy: 0.4715 - val_loss: 1.3752 - val_accuracy: 0.5108\n",
            "Epoch 4/70\n",
            "1435/1435 [==============================] - 7s 5ms/step - loss: 1.4286 - accuracy: 0.4916 - val_loss: 1.3484 - val_accuracy: 0.5206\n",
            "Epoch 5/70\n",
            "1435/1435 [==============================] - 6s 4ms/step - loss: 1.3793 - accuracy: 0.5084 - val_loss: 1.3313 - val_accuracy: 0.5251\n",
            "Epoch 6/70\n",
            "1435/1435 [==============================] - 7s 5ms/step - loss: 1.3473 - accuracy: 0.5226 - val_loss: 1.3156 - val_accuracy: 0.5329\n",
            "Epoch 7/70\n",
            "1435/1435 [==============================] - 6s 4ms/step - loss: 1.3090 - accuracy: 0.5304 - val_loss: 1.3476 - val_accuracy: 0.5186\n",
            "Epoch 8/70\n",
            "1435/1435 [==============================] - 7s 5ms/step - loss: 1.2885 - accuracy: 0.5382 - val_loss: 1.2984 - val_accuracy: 0.5349\n",
            "Epoch 9/70\n",
            "1435/1435 [==============================] - 6s 4ms/step - loss: 1.2646 - accuracy: 0.5500 - val_loss: 1.2857 - val_accuracy: 0.5439\n",
            "Epoch 10/70\n",
            "1435/1435 [==============================] - 8s 5ms/step - loss: 1.2438 - accuracy: 0.5546 - val_loss: 1.2966 - val_accuracy: 0.5375\n",
            "Epoch 11/70\n",
            "1435/1435 [==============================] - 6s 4ms/step - loss: 1.2205 - accuracy: 0.5648 - val_loss: 1.2974 - val_accuracy: 0.5427\n",
            "Epoch 12/70\n",
            "1435/1435 [==============================] - 6s 4ms/step - loss: 1.1992 - accuracy: 0.5730 - val_loss: 1.2842 - val_accuracy: 0.5504\n",
            "Epoch 13/70\n",
            "1435/1435 [==============================] - 6s 4ms/step - loss: 1.1843 - accuracy: 0.5766 - val_loss: 1.2788 - val_accuracy: 0.5463\n",
            "Epoch 14/70\n",
            "1435/1435 [==============================] - 7s 5ms/step - loss: 1.1661 - accuracy: 0.5822 - val_loss: 1.2800 - val_accuracy: 0.5443\n",
            "Epoch 15/70\n",
            "1435/1435 [==============================] - 7s 5ms/step - loss: 1.1563 - accuracy: 0.5852 - val_loss: 1.2750 - val_accuracy: 0.5486\n",
            "Epoch 16/70\n",
            "1435/1435 [==============================] - 6s 4ms/step - loss: 1.1487 - accuracy: 0.5899 - val_loss: 1.2881 - val_accuracy: 0.5469\n",
            "Epoch 17/70\n",
            "1435/1435 [==============================] - 7s 5ms/step - loss: 1.1297 - accuracy: 0.5965 - val_loss: 1.3047 - val_accuracy: 0.5420\n",
            "Epoch 18/70\n",
            "1435/1435 [==============================] - 6s 4ms/step - loss: 1.1172 - accuracy: 0.6037 - val_loss: 1.2875 - val_accuracy: 0.5484\n",
            "Epoch 19/70\n",
            "1435/1435 [==============================] - 7s 5ms/step - loss: 1.1083 - accuracy: 0.6041 - val_loss: 1.2859 - val_accuracy: 0.5490\n",
            "Epoch 20/70\n",
            "1435/1435 [==============================] - 6s 4ms/step - loss: 1.0954 - accuracy: 0.6087 - val_loss: 1.2981 - val_accuracy: 0.5559\n",
            "Epoch 21/70\n",
            "1435/1435 [==============================] - 7s 5ms/step - loss: 1.0860 - accuracy: 0.6119 - val_loss: 1.3146 - val_accuracy: 0.5445\n",
            "Epoch 22/70\n",
            "1435/1435 [==============================] - 6s 4ms/step - loss: 1.0720 - accuracy: 0.6181 - val_loss: 1.2868 - val_accuracy: 0.5488\n",
            "Epoch 23/70\n",
            "1435/1435 [==============================] - 7s 5ms/step - loss: 1.0622 - accuracy: 0.6195 - val_loss: 1.3139 - val_accuracy: 0.5455\n",
            "Epoch 24/70\n",
            "1435/1435 [==============================] - 6s 4ms/step - loss: 1.0507 - accuracy: 0.6234 - val_loss: 1.3093 - val_accuracy: 0.5512\n",
            "Epoch 25/70\n",
            "1435/1435 [==============================] - 7s 5ms/step - loss: 1.0524 - accuracy: 0.6223 - val_loss: 1.2985 - val_accuracy: 0.5553\n"
          ]
        }
      ],
      "source": [
        "# fit model\n",
        "t1 = time.time() # start timer\n",
        "history1 = model1.fit(X_train, Y_train, epochs=70, validation_data=(X_val, Y_val), callbacks=[earlystopping_callback])\n",
        "t2 = time.time() # end timer"
      ]
    },
    {
      "cell_type": "code",
      "execution_count": 15,
      "id": "6602438c-320a-4814-ab7b-579de8e16dba",
      "metadata": {
        "colab": {
          "base_uri": "https://localhost:8080/"
        },
        "id": "6602438c-320a-4814-ab7b-579de8e16dba",
        "outputId": "35259590-d8cf-4f0a-ac75-9b96054de301"
      },
      "outputs": [
        {
          "output_type": "stream",
          "name": "stdout",
          "text": [
            "Model: \"sequential\"\n",
            "_________________________________________________________________\n",
            " Layer (type)                Output Shape              Param #   \n",
            "=================================================================\n",
            " flatten (Flatten)           (None, 3072)              0         \n",
            "                                                                 \n",
            " batch_normalization (Batch  (None, 3072)              12288     \n",
            " Normalization)                                                  \n",
            "                                                                 \n",
            " dense (Dense)               (None, 100)               307300    \n",
            "                                                                 \n",
            " batch_normalization_1 (Bat  (None, 100)               400       \n",
            " chNormalization)                                                \n",
            "                                                                 \n",
            " dense_1 (Dense)             (None, 100)               10100     \n",
            "                                                                 \n",
            " dropout (Dropout)           (None, 100)               0         \n",
            "                                                                 \n",
            " dense_2 (Dense)             (None, 10)                1010      \n",
            "                                                                 \n",
            "=================================================================\n",
            "Total params: 331098 (1.26 MB)\n",
            "Trainable params: 324754 (1.24 MB)\n",
            "Non-trainable params: 6344 (24.78 KB)\n",
            "_________________________________________________________________\n"
          ]
        }
      ],
      "source": [
        "model1.summary()"
      ]
    },
    {
      "cell_type": "code",
      "execution_count": 16,
      "id": "6f2381b2-84dd-43fa-ab2b-2b703ae267ff",
      "metadata": {
        "colab": {
          "base_uri": "https://localhost:8080/"
        },
        "id": "6f2381b2-84dd-43fa-ab2b-2b703ae267ff",
        "outputId": "5ef2462e-c605-4494-a52f-5c547d4a6471"
      },
      "outputs": [
        {
          "output_type": "stream",
          "name": "stdout",
          "text": [
            "282/282 [==============================] - 1s 2ms/step\n",
            "              precision    recall  f1-score   support\n",
            "\n",
            "           0       0.59      0.58      0.59       904\n",
            "           1       0.66      0.62      0.64       886\n",
            "           2       0.44      0.39      0.41       901\n",
            "           3       0.39      0.43      0.41       963\n",
            "           4       0.46      0.43      0.44       868\n",
            "           5       0.49      0.40      0.44       904\n",
            "           6       0.56      0.62      0.59       858\n",
            "           7       0.63      0.65      0.64       930\n",
            "           8       0.59      0.71      0.64       885\n",
            "           9       0.58      0.58      0.58       901\n",
            "\n",
            "    accuracy                           0.54      9000\n",
            "   macro avg       0.54      0.54      0.54      9000\n",
            "weighted avg       0.54      0.54      0.54      9000\n",
            "\n"
          ]
        }
      ],
      "source": [
        "metrics_report(model1, X_test, Y_test)"
      ]
    },
    {
      "cell_type": "code",
      "execution_count": 17,
      "id": "4438e197-34b0-470a-8965-b147c85860f6",
      "metadata": {
        "colab": {
          "base_uri": "https://localhost:8080/"
        },
        "id": "4438e197-34b0-470a-8965-b147c85860f6",
        "outputId": "2abb526a-c1f0-4773-d88f-d3960b769c6d"
      },
      "outputs": [
        {
          "output_type": "stream",
          "name": "stdout",
          "text": [
            "learning runtime: 167 sec\n"
          ]
        }
      ],
      "source": [
        "learning_runtime(t1, t2)"
      ]
    },
    {
      "cell_type": "markdown",
      "id": "4edadf6b-b394-43a3-8fa3-5732d0b925ee",
      "metadata": {
        "id": "4edadf6b-b394-43a3-8fa3-5732d0b925ee"
      },
      "source": [
        "# DL - convolutional neural network"
      ]
    },
    {
      "cell_type": "code",
      "execution_count": 33,
      "id": "8ca5a01f-c92e-4c8a-b3de-5f140e9ea015",
      "metadata": {
        "id": "8ca5a01f-c92e-4c8a-b3de-5f140e9ea015"
      },
      "outputs": [],
      "source": [
        "# create model\n",
        "model2 = keras.models.Sequential([\n",
        "    keras.layers.Conv2D(50, 5, activation='selu', padding='same', input_shape=X_train.shape[1:]),\n",
        "    keras.layers.MaxPooling2D(2),\n",
        "    keras.layers.Conv2D(100, 3, activation='selu', padding='same'),\n",
        "    keras.layers.MaxPooling2D(2),\n",
        "    keras.layers.Conv2D(200, 3, activation='selu', padding='same'),\n",
        "    keras.layers.MaxPooling2D(2),\n",
        "    keras.layers.Flatten(),\n",
        "    keras.layers.BatchNormalization(),\n",
        "    keras.layers.Dense(100, activation='elu'),\n",
        "    keras.layers.BatchNormalization(),\n",
        "    keras.layers.Dense(100, activation='elu'),\n",
        "    keras.layers.Dropout(0.2),\n",
        "    keras.layers.Dense(10, activation='softmax')\n",
        "])"
      ]
    },
    {
      "cell_type": "code",
      "execution_count": 34,
      "id": "e912db97-480e-465b-baf2-31b9bd006775",
      "metadata": {
        "id": "e912db97-480e-465b-baf2-31b9bd006775"
      },
      "outputs": [],
      "source": [
        "# compile model\n",
        "model2.compile(loss='sparse_categorical_crossentropy', metrics=['accuracy'], optimizer=keras.optimizers.Adam())"
      ]
    },
    {
      "cell_type": "code",
      "execution_count": 35,
      "id": "a326e44a-55fd-448c-b68c-14cf34fc4aab",
      "metadata": {
        "colab": {
          "base_uri": "https://localhost:8080/"
        },
        "id": "a326e44a-55fd-448c-b68c-14cf34fc4aab",
        "outputId": "70e70c81-1c37-4b5e-a79d-22c9e5d2af74"
      },
      "outputs": [
        {
          "output_type": "stream",
          "name": "stdout",
          "text": [
            "Epoch 1/70\n",
            "1435/1435 [==============================] - 12s 6ms/step - loss: 1.4097 - accuracy: 0.4980 - val_loss: 1.7206 - val_accuracy: 0.4561\n",
            "Epoch 2/70\n",
            "1435/1435 [==============================] - 10s 7ms/step - loss: 1.0750 - accuracy: 0.6196 - val_loss: 0.9799 - val_accuracy: 0.6529\n",
            "Epoch 3/70\n",
            "1435/1435 [==============================] - 9s 6ms/step - loss: 0.9432 - accuracy: 0.6694 - val_loss: 1.1177 - val_accuracy: 0.6210\n",
            "Epoch 4/70\n",
            "1435/1435 [==============================] - 15s 11ms/step - loss: 0.8728 - accuracy: 0.6923 - val_loss: 1.0306 - val_accuracy: 0.6553\n",
            "Epoch 5/70\n",
            "1435/1435 [==============================] - 10s 7ms/step - loss: 0.8082 - accuracy: 0.7169 - val_loss: 1.2184 - val_accuracy: 0.6786\n",
            "Epoch 6/70\n",
            "1435/1435 [==============================] - 10s 7ms/step - loss: 0.7674 - accuracy: 0.7297 - val_loss: 1.2506 - val_accuracy: 0.6359\n",
            "Epoch 7/70\n",
            "1435/1435 [==============================] - 9s 6ms/step - loss: 0.7274 - accuracy: 0.7452 - val_loss: 0.8574 - val_accuracy: 0.7198\n",
            "Epoch 8/70\n",
            "1435/1435 [==============================] - 9s 6ms/step - loss: 0.6567 - accuracy: 0.7707 - val_loss: 0.8395 - val_accuracy: 0.7267\n",
            "Epoch 9/70\n",
            "1435/1435 [==============================] - 10s 7ms/step - loss: 0.6520 - accuracy: 0.7697 - val_loss: 2.4512 - val_accuracy: 0.4800\n",
            "Epoch 10/70\n",
            "1435/1435 [==============================] - 14s 9ms/step - loss: 0.6431 - accuracy: 0.7724 - val_loss: 1.5394 - val_accuracy: 0.6145\n",
            "Epoch 11/70\n",
            "1435/1435 [==============================] - 10s 7ms/step - loss: 0.5580 - accuracy: 0.8041 - val_loss: 1.4541 - val_accuracy: 0.7269\n",
            "Epoch 12/70\n",
            "1435/1435 [==============================] - 10s 7ms/step - loss: 0.5308 - accuracy: 0.8148 - val_loss: 1.4815 - val_accuracy: 0.6798\n",
            "Epoch 13/70\n",
            "1435/1435 [==============================] - 9s 6ms/step - loss: 0.4739 - accuracy: 0.8326 - val_loss: 1.1117 - val_accuracy: 0.6971\n",
            "Epoch 14/70\n",
            "1435/1435 [==============================] - 9s 6ms/step - loss: 0.4452 - accuracy: 0.8446 - val_loss: 1.0469 - val_accuracy: 0.7439\n",
            "Epoch 15/70\n",
            "1435/1435 [==============================] - 9s 7ms/step - loss: 0.3988 - accuracy: 0.8592 - val_loss: 1.3546 - val_accuracy: 0.7129\n",
            "Epoch 16/70\n",
            "1435/1435 [==============================] - 10s 7ms/step - loss: 0.3885 - accuracy: 0.8628 - val_loss: 1.1314 - val_accuracy: 0.7494\n",
            "Epoch 17/70\n",
            "1435/1435 [==============================] - 9s 6ms/step - loss: 0.3504 - accuracy: 0.8762 - val_loss: 1.3877 - val_accuracy: 0.7420\n",
            "Epoch 18/70\n",
            "1435/1435 [==============================] - 9s 6ms/step - loss: 0.3219 - accuracy: 0.8861 - val_loss: 1.3061 - val_accuracy: 0.7041\n"
          ]
        }
      ],
      "source": [
        "# fit model\n",
        "t1 = time.time() # start timer\n",
        "history2 = model2.fit(X_train, Y_train, epochs=70, validation_data=(X_val, Y_val), callbacks=[earlystopping_callback])\n",
        "t2 = time.time() # end timer"
      ]
    },
    {
      "cell_type": "code",
      "execution_count": 36,
      "id": "dc61ddd6-b4f6-462c-a76b-d14188436b21",
      "metadata": {
        "colab": {
          "base_uri": "https://localhost:8080/"
        },
        "id": "dc61ddd6-b4f6-462c-a76b-d14188436b21",
        "outputId": "7366e7bc-b3d1-47db-dd6d-d5fe99d96fd7"
      },
      "outputs": [
        {
          "output_type": "stream",
          "name": "stdout",
          "text": [
            "Model: \"sequential_4\"\n",
            "_________________________________________________________________\n",
            " Layer (type)                Output Shape              Param #   \n",
            "=================================================================\n",
            " conv2d_9 (Conv2D)           (None, 32, 32, 50)        3800      \n",
            "                                                                 \n",
            " max_pooling2d_9 (MaxPoolin  (None, 16, 16, 50)        0         \n",
            " g2D)                                                            \n",
            "                                                                 \n",
            " conv2d_10 (Conv2D)          (None, 16, 16, 100)       45100     \n",
            "                                                                 \n",
            " max_pooling2d_10 (MaxPooli  (None, 8, 8, 100)         0         \n",
            " ng2D)                                                           \n",
            "                                                                 \n",
            " conv2d_11 (Conv2D)          (None, 8, 8, 200)         180200    \n",
            "                                                                 \n",
            " max_pooling2d_11 (MaxPooli  (None, 4, 4, 200)         0         \n",
            " ng2D)                                                           \n",
            "                                                                 \n",
            " flatten_4 (Flatten)         (None, 3200)              0         \n",
            "                                                                 \n",
            " batch_normalization_8 (Bat  (None, 3200)              12800     \n",
            " chNormalization)                                                \n",
            "                                                                 \n",
            " dense_12 (Dense)            (None, 100)               320100    \n",
            "                                                                 \n",
            " batch_normalization_9 (Bat  (None, 100)               400       \n",
            " chNormalization)                                                \n",
            "                                                                 \n",
            " dense_13 (Dense)            (None, 100)               10100     \n",
            "                                                                 \n",
            " dropout_4 (Dropout)         (None, 100)               0         \n",
            "                                                                 \n",
            " dense_14 (Dense)            (None, 10)                1010      \n",
            "                                                                 \n",
            "=================================================================\n",
            "Total params: 573510 (2.19 MB)\n",
            "Trainable params: 566910 (2.16 MB)\n",
            "Non-trainable params: 6600 (25.78 KB)\n",
            "_________________________________________________________________\n"
          ]
        }
      ],
      "source": [
        "model2.summary()"
      ]
    },
    {
      "cell_type": "code",
      "execution_count": 37,
      "id": "d4273fa7-7493-4eb3-87fe-70352ebaea8b",
      "metadata": {
        "colab": {
          "base_uri": "https://localhost:8080/"
        },
        "id": "d4273fa7-7493-4eb3-87fe-70352ebaea8b",
        "outputId": "1430521f-6672-4dca-c173-882c53b071fb"
      },
      "outputs": [
        {
          "output_type": "stream",
          "name": "stdout",
          "text": [
            "282/282 [==============================] - 1s 3ms/step\n",
            "              precision    recall  f1-score   support\n",
            "\n",
            "           0       0.81      0.68      0.74       904\n",
            "           1       0.82      0.85      0.83       886\n",
            "           2       0.59      0.70      0.64       901\n",
            "           3       0.56      0.54      0.55       963\n",
            "           4       0.74      0.63      0.68       868\n",
            "           5       0.56      0.68      0.61       904\n",
            "           6       0.84      0.77      0.80       858\n",
            "           7       0.66      0.87      0.75       930\n",
            "           8       0.87      0.80      0.83       885\n",
            "           9       0.90      0.65      0.76       901\n",
            "\n",
            "    accuracy                           0.72      9000\n",
            "   macro avg       0.73      0.72      0.72      9000\n",
            "weighted avg       0.73      0.72      0.72      9000\n",
            "\n"
          ]
        }
      ],
      "source": [
        "metrics_report(model2, X_test, Y_test)"
      ]
    },
    {
      "cell_type": "code",
      "execution_count": 38,
      "id": "7749aec8-36d5-4a48-a060-aed6faf0799c",
      "metadata": {
        "colab": {
          "base_uri": "https://localhost:8080/"
        },
        "id": "7749aec8-36d5-4a48-a060-aed6faf0799c",
        "outputId": "da8c6248-86e4-4c3d-9928-6d7fe6d4b406"
      },
      "outputs": [
        {
          "output_type": "stream",
          "name": "stdout",
          "text": [
            "learning runtime: 184 sec\n"
          ]
        }
      ],
      "source": [
        "learning_runtime(t1, t2)"
      ]
    },
    {
      "cell_type": "markdown",
      "id": "3f497054-2dd9-4c3c-bed0-1a6f857379b2",
      "metadata": {
        "id": "3f497054-2dd9-4c3c-bed0-1a6f857379b2"
      },
      "source": [
        "# _______________________________"
      ]
    },
    {
      "cell_type": "markdown",
      "id": "2b3f805a-1bdb-480a-b221-4441876d217c",
      "metadata": {
        "id": "2b3f805a-1bdb-480a-b221-4441876d217c"
      },
      "source": [
        "# *** SGD learning rate ***"
      ]
    },
    {
      "cell_type": "markdown",
      "id": "73fa0cd9-7ac1-48e4-879e-7f66729e6a72",
      "metadata": {
        "id": "73fa0cd9-7ac1-48e4-879e-7f66729e6a72"
      },
      "source": [
        "# exponantial lr"
      ]
    },
    {
      "cell_type": "code",
      "execution_count": 48,
      "id": "ab12e9a8-52bf-46a6-82bf-17ab5c11c60e",
      "metadata": {
        "id": "ab12e9a8-52bf-46a6-82bf-17ab5c11c60e"
      },
      "outputs": [],
      "source": [
        "# create model\n",
        "model3 = keras.models.Sequential([\n",
        "    keras.layers.Conv2D(50, 5, activation='selu', padding='same', input_shape=X_train.shape[1:]),\n",
        "    keras.layers.MaxPooling2D(2),\n",
        "    keras.layers.Conv2D(100, 3, activation='selu', padding='same'),\n",
        "    keras.layers.MaxPooling2D(2),\n",
        "    keras.layers.Conv2D(200, 3, activation='selu', padding='same'),\n",
        "    keras.layers.MaxPooling2D(2),\n",
        "    keras.layers.Flatten(),\n",
        "    keras.layers.BatchNormalization(),\n",
        "    keras.layers.Dense(100, activation='elu'),\n",
        "    keras.layers.BatchNormalization(),\n",
        "    keras.layers.Dense(100, activation='elu'),\n",
        "    keras.layers.Dropout(0.2),\n",
        "    keras.layers.Dense(10, activation='softmax')\n",
        "])"
      ]
    },
    {
      "cell_type": "code",
      "execution_count": 49,
      "id": "19292b7d-fffe-4a29-9542-a33e6ab5a3c5",
      "metadata": {
        "id": "19292b7d-fffe-4a29-9542-a33e6ab5a3c5"
      },
      "outputs": [],
      "source": [
        "# compile model\n",
        "model3.compile(loss='sparse_categorical_crossentropy', metrics=['accuracy'], optimizer=keras.optimizers.SGD(learning_rate=0.01))"
      ]
    },
    {
      "cell_type": "code",
      "execution_count": 50,
      "id": "75fc5b12-9dc2-4c2c-a44e-ad21b8ea005f",
      "metadata": {
        "id": "75fc5b12-9dc2-4c2c-a44e-ad21b8ea005f"
      },
      "outputs": [],
      "source": [
        "# exponantial function\n",
        "def exp_lr_func(eta0, s):\n",
        "    def exp_lr(epoch):\n",
        "        return eta0*0.1**(epoch/s)\n",
        "    return exp_lr\n",
        "\n",
        "exp_lr_s = exp_lr_func(0.01, 10)\n",
        "exp_lr_c = keras.callbacks.LearningRateScheduler(exp_lr_s)"
      ]
    },
    {
      "cell_type": "code",
      "execution_count": 51,
      "id": "8608cbe2-1cad-4550-b473-8fa6d7d1021a",
      "metadata": {
        "colab": {
          "base_uri": "https://localhost:8080/"
        },
        "id": "8608cbe2-1cad-4550-b473-8fa6d7d1021a",
        "outputId": "4da0ec43-bcb1-4657-88f5-5f9e4cd385a8"
      },
      "outputs": [
        {
          "output_type": "stream",
          "name": "stdout",
          "text": [
            "Epoch 1/5\n",
            "1435/1435 [==============================] - 11s 6ms/step - loss: 1.5711 - accuracy: 0.4428 - val_loss: 2.0430 - val_accuracy: 0.3361 - lr: 0.0100\n",
            "Epoch 2/5\n",
            "1435/1435 [==============================] - 9s 6ms/step - loss: 1.1789 - accuracy: 0.5827 - val_loss: 1.8508 - val_accuracy: 0.4247 - lr: 0.0079\n",
            "Epoch 3/5\n",
            "1435/1435 [==============================] - 9s 7ms/step - loss: 1.0366 - accuracy: 0.6371 - val_loss: 1.2805 - val_accuracy: 0.5829 - lr: 0.0063\n",
            "Epoch 4/5\n",
            "1435/1435 [==============================] - 9s 6ms/step - loss: 0.9247 - accuracy: 0.6749 - val_loss: 1.0444 - val_accuracy: 0.6384 - lr: 0.0050\n",
            "Epoch 5/5\n",
            "1435/1435 [==============================] - 9s 6ms/step - loss: 0.8532 - accuracy: 0.7031 - val_loss: 1.0568 - val_accuracy: 0.6337 - lr: 0.0040\n"
          ]
        }
      ],
      "source": [
        "# fit model\n",
        "t1 = time.time() # start timer\n",
        "history3 = model3.fit(X_train, Y_train, epochs=5, validation_data=(X_val, Y_val), callbacks=[earlystopping_callback, exp_lr_c])\n",
        "t2 = time.time() # end timer"
      ]
    },
    {
      "cell_type": "code",
      "execution_count": 52,
      "id": "68619a8a-db68-44ba-a276-791da7d4242e",
      "metadata": {
        "colab": {
          "base_uri": "https://localhost:8080/"
        },
        "id": "68619a8a-db68-44ba-a276-791da7d4242e",
        "outputId": "ac0a42b6-4ead-4b90-e664-342312016172"
      },
      "outputs": [
        {
          "output_type": "stream",
          "name": "stdout",
          "text": [
            "learning runtime: 84 sec\n"
          ]
        }
      ],
      "source": [
        "learning_runtime(t1, t2)"
      ]
    },
    {
      "cell_type": "markdown",
      "id": "5352f618-9a5b-493f-b996-405969fdaf65",
      "metadata": {
        "id": "5352f618-9a5b-493f-b996-405969fdaf65"
      },
      "source": [
        "# 1cycle lr"
      ]
    },
    {
      "cell_type": "code",
      "execution_count": 53,
      "id": "8b285d7d-db42-4fb9-9c05-3561866df0d7",
      "metadata": {
        "id": "8b285d7d-db42-4fb9-9c05-3561866df0d7"
      },
      "outputs": [],
      "source": [
        "# create model\n",
        "model4 = keras.models.Sequential([\n",
        "    keras.layers.Conv2D(50, 5, activation='selu', padding='same', input_shape=X_train.shape[1:]),\n",
        "    keras.layers.MaxPooling2D(2),\n",
        "    keras.layers.Conv2D(100, 3, activation='selu', padding='same'),\n",
        "    keras.layers.MaxPooling2D(2),\n",
        "    keras.layers.Conv2D(200, 3, activation='selu', padding='same'),\n",
        "    keras.layers.MaxPooling2D(2),\n",
        "    keras.layers.Flatten(),\n",
        "    keras.layers.BatchNormalization(),\n",
        "    keras.layers.Dense(100, activation='elu'),\n",
        "    keras.layers.BatchNormalization(),\n",
        "    keras.layers.Dense(100, activation='elu'),\n",
        "    keras.layers.Dropout(0.2),\n",
        "    keras.layers.Dense(10, activation='softmax')\n",
        "])"
      ]
    },
    {
      "cell_type": "code",
      "execution_count": 54,
      "id": "042fd3d2-d193-40e3-8c01-ccc5e7ee367f",
      "metadata": {
        "id": "042fd3d2-d193-40e3-8c01-ccc5e7ee367f"
      },
      "outputs": [],
      "source": [
        "# compile model\n",
        "model4.compile(loss='sparse_categorical_crossentropy', metrics=['accuracy'], optimizer=keras.optimizers.SGD(learning_rate=0.01))"
      ]
    },
    {
      "cell_type": "code",
      "execution_count": 55,
      "id": "86a433b2-9f50-4ccb-ae1e-c468851b7888",
      "metadata": {
        "id": "86a433b2-9f50-4ccb-ae1e-c468851b7888"
      },
      "outputs": [],
      "source": [
        "# 1cycle function\n",
        "class OneCycleLearningRate(keras.callbacks.Callback):\n",
        "  def __init__(self, iterations, max_lr, init_lr=None,\n",
        "               final_steps=None, final_lr=None):\n",
        "    self.iterations = iterations\n",
        "    self.max_lr = max_lr\n",
        "    self.init_lr = init_lr or max_lr / 10\n",
        "    self.final_steps = final_steps or int(iterations/10)+1\n",
        "    self.half_iterations = int((iterations - self.final_steps)/2)\n",
        "    self.final_lr = final_lr or self.init_lr/1000\n",
        "    self.iteration = 0\n",
        "\n",
        "  def interpolation(self, y2, y1, x2, x1):\n",
        "    return (y2 - y1)/(x2 - x1)*(self.iteration - x1) + y1\n",
        "\n",
        "  def on_batch_begin(self, batch, logs):\n",
        "    if self.iteration < self.half_iterations:\n",
        "      lr = self.interpolation(self.max_lr, self.init_lr,\n",
        "                              self.half_iterations, 0)\n",
        "    elif self.iteration < 2*self.half_iterations:\n",
        "      lr = self.interpolation(self.init_lr, self.max_lr,\n",
        "                              2*self.half_iterations, self.half_iterations)\n",
        "    else:\n",
        "      lr = self.interpolation(self.final_lr, self.init_lr,\n",
        "                              self.iterations, 2*self.half_iterations)\n",
        "    self.iteration += 1\n",
        "    keras.backend.set_value(self.model.optimizer.learning_rate, lr)\n",
        "\n",
        "epochs = 5\n",
        "batch_size = 32\n",
        "iters = int(X_train.shape[0]/batch_size)*epochs\n",
        "one_cycle_lr_callback = OneCycleLearningRate(iters, max_lr=0.01)"
      ]
    },
    {
      "cell_type": "code",
      "execution_count": 56,
      "id": "ba26f6aa-73c7-4110-91ea-3cf920480c16",
      "metadata": {
        "colab": {
          "base_uri": "https://localhost:8080/"
        },
        "id": "ba26f6aa-73c7-4110-91ea-3cf920480c16",
        "outputId": "992861ea-2b78-40b5-96bf-72770656eb0f"
      },
      "outputs": [
        {
          "output_type": "stream",
          "name": "stdout",
          "text": [
            "Epoch 1/5\n",
            "1435/1435 [==============================] - 11s 7ms/step - loss: 1.6918 - accuracy: 0.4028 - val_loss: 1.9298 - val_accuracy: 0.3369\n",
            "Epoch 2/5\n",
            "1435/1435 [==============================] - 10s 7ms/step - loss: 1.3166 - accuracy: 0.5343 - val_loss: 2.2302 - val_accuracy: 0.3822\n",
            "Epoch 3/5\n",
            "1435/1435 [==============================] - 10s 7ms/step - loss: 1.1155 - accuracy: 0.6073 - val_loss: 1.6095 - val_accuracy: 0.4873\n",
            "Epoch 4/5\n",
            "1435/1435 [==============================] - 14s 9ms/step - loss: 0.9354 - accuracy: 0.6723 - val_loss: 0.9099 - val_accuracy: 0.6796\n",
            "Epoch 5/5\n",
            "1435/1435 [==============================] - 10s 7ms/step - loss: 0.8234 - accuracy: 0.7145 - val_loss: 0.8193 - val_accuracy: 0.7147\n"
          ]
        }
      ],
      "source": [
        "# fit model\n",
        "t1 = time.time() # start timer\n",
        "history4 = model4.fit(X_train, Y_train, epochs=5, validation_data=(X_val, Y_val), callbacks=[earlystopping_callback, one_cycle_lr_callback])\n",
        "t2 = time.time() # end timer"
      ]
    },
    {
      "cell_type": "code",
      "execution_count": 57,
      "id": "7fb7eaef-5605-4cd1-a303-04772e874d09",
      "metadata": {
        "colab": {
          "base_uri": "https://localhost:8080/"
        },
        "id": "7fb7eaef-5605-4cd1-a303-04772e874d09",
        "outputId": "06e432f6-a678-4cd7-8e7a-f1ec98545289"
      },
      "outputs": [
        {
          "output_type": "stream",
          "name": "stdout",
          "text": [
            "learning runtime: 84 sec\n"
          ]
        }
      ],
      "source": [
        "learning_runtime(t1, t2)"
      ]
    },
    {
      "cell_type": "markdown",
      "id": "528e2c46-ff9a-4bf3-9b8d-b39931de21aa",
      "metadata": {
        "id": "528e2c46-ff9a-4bf3-9b8d-b39931de21aa"
      },
      "source": [
        "# --------------------------------"
      ]
    },
    {
      "cell_type": "markdown",
      "id": "e504688a-1f8f-42ea-9ee5-99ce3808fd44",
      "metadata": {
        "id": "e504688a-1f8f-42ea-9ee5-99ce3808fd44"
      },
      "source": [
        "# best SGD learning rate"
      ]
    },
    {
      "cell_type": "code",
      "execution_count": 58,
      "id": "a5465146-eb40-497b-8171-e20c918642ac",
      "metadata": {
        "colab": {
          "base_uri": "https://localhost:8080/",
          "height": 517
        },
        "id": "a5465146-eb40-497b-8171-e20c918642ac",
        "outputId": "c20c9895-da42-4b95-dff9-f24c7f60e5ba"
      },
      "outputs": [
        {
          "output_type": "display_data",
          "data": {
            "text/html": [
              "<html>\n",
              "<head><meta charset=\"utf-8\" /></head>\n",
              "<body>\n",
              "    <div>            <script src=\"https://cdnjs.cloudflare.com/ajax/libs/mathjax/2.7.5/MathJax.js?config=TeX-AMS-MML_SVG\"></script><script type=\"text/javascript\">if (window.MathJax && window.MathJax.Hub && window.MathJax.Hub.Config) {window.MathJax.Hub.Config({SVG: {font: \"STIX-Web\"}});}</script>                <script type=\"text/javascript\">window.PlotlyConfig = {MathJaxConfig: 'local'};</script>\n",
              "        <script charset=\"utf-8\" src=\"https://cdn.plot.ly/plotly-2.24.1.min.js\"></script>                <div id=\"514a204b-ca22-4dd1-ba0b-da5e67d11794\" class=\"plotly-graph-div\" style=\"height:500px; width:100%;\"></div>            <script type=\"text/javascript\">                                    window.PLOTLYENV=window.PLOTLYENV || {};                                    if (document.getElementById(\"514a204b-ca22-4dd1-ba0b-da5e67d11794\")) {                    Plotly.newPlot(                        \"514a204b-ca22-4dd1-ba0b-da5e67d11794\",                        [{\"hovertemplate\":\"\\u003cextra\\u003e\\u003c\\u002fextra\\u003e\",\"legendgroup\":\"\",\"line\":{\"color\":\"#636efa\",\"dash\":\"solid\"},\"marker\":{\"symbol\":\"circle\"},\"mode\":\"lines\",\"name\":\"\",\"orientation\":\"v\",\"showlegend\":false,\"xaxis\":\"x\",\"yaxis\":\"y\",\"type\":\"scatter\"},{\"name\":\"exponantial-loss\",\"x\":[0,1,2,3,4,5,6,7,8,9,10,11,12,13,14,15,16,17,18,19,20,21,22,23,24,25,26,27,28,29,30,31,32,33,34,35,36,37,38,39,40,41,42,43,44,45,46,47,48,49],\"y\":[1.5710604190826416,1.1788800954818726,1.036643147468567,0.9247021675109863,0.8532213568687439],\"type\":\"scatter\"},{\"name\":\"exponantial-accuracy\",\"x\":[0,1,2,3,4,5,6,7,8,9,10,11,12,13,14,15,16,17,18,19,20,21,22,23,24,25,26,27,28,29,30,31,32,33,34,35,36,37,38,39,40,41,42,43,44,45,46,47,48,49],\"y\":[0.44278866052627563,0.5827015042304993,0.6371241807937622,0.6749237179756165,0.7030501365661621],\"type\":\"scatter\"},{\"name\":\"one_cycle-loss\",\"x\":[0,1,2,3,4,5,6,7,8,9,10,11,12,13,14,15,16,17,18,19,20,21,22,23,24,25,26,27,28,29,30,31,32,33,34,35,36,37,38,39,40,41,42,43,44,45,46,47,48,49],\"y\":[1.6918271780014038,1.316551685333252,1.1154588460922241,0.935437023639679,0.823354184627533],\"type\":\"scatter\"},{\"name\":\"one_cycle-accuracy\",\"x\":[0,1,2,3,4,5,6,7,8,9,10,11,12,13,14,15,16,17,18,19,20,21,22,23,24,25,26,27,28,29,30,31,32,33,34,35,36,37,38,39,40,41,42,43,44,45,46,47,48,49],\"y\":[0.4027668833732605,0.5342919230461121,0.6072549223899841,0.6723093390464783,0.7145316004753113],\"type\":\"scatter\"}],                        {\"template\":{\"data\":{\"histogram2dcontour\":[{\"type\":\"histogram2dcontour\",\"colorbar\":{\"outlinewidth\":0,\"ticks\":\"\"},\"colorscale\":[[0.0,\"#0d0887\"],[0.1111111111111111,\"#46039f\"],[0.2222222222222222,\"#7201a8\"],[0.3333333333333333,\"#9c179e\"],[0.4444444444444444,\"#bd3786\"],[0.5555555555555556,\"#d8576b\"],[0.6666666666666666,\"#ed7953\"],[0.7777777777777778,\"#fb9f3a\"],[0.8888888888888888,\"#fdca26\"],[1.0,\"#f0f921\"]]}],\"choropleth\":[{\"type\":\"choropleth\",\"colorbar\":{\"outlinewidth\":0,\"ticks\":\"\"}}],\"histogram2d\":[{\"type\":\"histogram2d\",\"colorbar\":{\"outlinewidth\":0,\"ticks\":\"\"},\"colorscale\":[[0.0,\"#0d0887\"],[0.1111111111111111,\"#46039f\"],[0.2222222222222222,\"#7201a8\"],[0.3333333333333333,\"#9c179e\"],[0.4444444444444444,\"#bd3786\"],[0.5555555555555556,\"#d8576b\"],[0.6666666666666666,\"#ed7953\"],[0.7777777777777778,\"#fb9f3a\"],[0.8888888888888888,\"#fdca26\"],[1.0,\"#f0f921\"]]}],\"heatmap\":[{\"type\":\"heatmap\",\"colorbar\":{\"outlinewidth\":0,\"ticks\":\"\"},\"colorscale\":[[0.0,\"#0d0887\"],[0.1111111111111111,\"#46039f\"],[0.2222222222222222,\"#7201a8\"],[0.3333333333333333,\"#9c179e\"],[0.4444444444444444,\"#bd3786\"],[0.5555555555555556,\"#d8576b\"],[0.6666666666666666,\"#ed7953\"],[0.7777777777777778,\"#fb9f3a\"],[0.8888888888888888,\"#fdca26\"],[1.0,\"#f0f921\"]]}],\"heatmapgl\":[{\"type\":\"heatmapgl\",\"colorbar\":{\"outlinewidth\":0,\"ticks\":\"\"},\"colorscale\":[[0.0,\"#0d0887\"],[0.1111111111111111,\"#46039f\"],[0.2222222222222222,\"#7201a8\"],[0.3333333333333333,\"#9c179e\"],[0.4444444444444444,\"#bd3786\"],[0.5555555555555556,\"#d8576b\"],[0.6666666666666666,\"#ed7953\"],[0.7777777777777778,\"#fb9f3a\"],[0.8888888888888888,\"#fdca26\"],[1.0,\"#f0f921\"]]}],\"contourcarpet\":[{\"type\":\"contourcarpet\",\"colorbar\":{\"outlinewidth\":0,\"ticks\":\"\"}}],\"contour\":[{\"type\":\"contour\",\"colorbar\":{\"outlinewidth\":0,\"ticks\":\"\"},\"colorscale\":[[0.0,\"#0d0887\"],[0.1111111111111111,\"#46039f\"],[0.2222222222222222,\"#7201a8\"],[0.3333333333333333,\"#9c179e\"],[0.4444444444444444,\"#bd3786\"],[0.5555555555555556,\"#d8576b\"],[0.6666666666666666,\"#ed7953\"],[0.7777777777777778,\"#fb9f3a\"],[0.8888888888888888,\"#fdca26\"],[1.0,\"#f0f921\"]]}],\"surface\":[{\"type\":\"surface\",\"colorbar\":{\"outlinewidth\":0,\"ticks\":\"\"},\"colorscale\":[[0.0,\"#0d0887\"],[0.1111111111111111,\"#46039f\"],[0.2222222222222222,\"#7201a8\"],[0.3333333333333333,\"#9c179e\"],[0.4444444444444444,\"#bd3786\"],[0.5555555555555556,\"#d8576b\"],[0.6666666666666666,\"#ed7953\"],[0.7777777777777778,\"#fb9f3a\"],[0.8888888888888888,\"#fdca26\"],[1.0,\"#f0f921\"]]}],\"mesh3d\":[{\"type\":\"mesh3d\",\"colorbar\":{\"outlinewidth\":0,\"ticks\":\"\"}}],\"scatter\":[{\"fillpattern\":{\"fillmode\":\"overlay\",\"size\":10,\"solidity\":0.2},\"type\":\"scatter\"}],\"parcoords\":[{\"type\":\"parcoords\",\"line\":{\"colorbar\":{\"outlinewidth\":0,\"ticks\":\"\"}}}],\"scatterpolargl\":[{\"type\":\"scatterpolargl\",\"marker\":{\"colorbar\":{\"outlinewidth\":0,\"ticks\":\"\"}}}],\"bar\":[{\"error_x\":{\"color\":\"#2a3f5f\"},\"error_y\":{\"color\":\"#2a3f5f\"},\"marker\":{\"line\":{\"color\":\"#E5ECF6\",\"width\":0.5},\"pattern\":{\"fillmode\":\"overlay\",\"size\":10,\"solidity\":0.2}},\"type\":\"bar\"}],\"scattergeo\":[{\"type\":\"scattergeo\",\"marker\":{\"colorbar\":{\"outlinewidth\":0,\"ticks\":\"\"}}}],\"scatterpolar\":[{\"type\":\"scatterpolar\",\"marker\":{\"colorbar\":{\"outlinewidth\":0,\"ticks\":\"\"}}}],\"histogram\":[{\"marker\":{\"pattern\":{\"fillmode\":\"overlay\",\"size\":10,\"solidity\":0.2}},\"type\":\"histogram\"}],\"scattergl\":[{\"type\":\"scattergl\",\"marker\":{\"colorbar\":{\"outlinewidth\":0,\"ticks\":\"\"}}}],\"scatter3d\":[{\"type\":\"scatter3d\",\"line\":{\"colorbar\":{\"outlinewidth\":0,\"ticks\":\"\"}},\"marker\":{\"colorbar\":{\"outlinewidth\":0,\"ticks\":\"\"}}}],\"scattermapbox\":[{\"type\":\"scattermapbox\",\"marker\":{\"colorbar\":{\"outlinewidth\":0,\"ticks\":\"\"}}}],\"scatterternary\":[{\"type\":\"scatterternary\",\"marker\":{\"colorbar\":{\"outlinewidth\":0,\"ticks\":\"\"}}}],\"scattercarpet\":[{\"type\":\"scattercarpet\",\"marker\":{\"colorbar\":{\"outlinewidth\":0,\"ticks\":\"\"}}}],\"carpet\":[{\"aaxis\":{\"endlinecolor\":\"#2a3f5f\",\"gridcolor\":\"white\",\"linecolor\":\"white\",\"minorgridcolor\":\"white\",\"startlinecolor\":\"#2a3f5f\"},\"baxis\":{\"endlinecolor\":\"#2a3f5f\",\"gridcolor\":\"white\",\"linecolor\":\"white\",\"minorgridcolor\":\"white\",\"startlinecolor\":\"#2a3f5f\"},\"type\":\"carpet\"}],\"table\":[{\"cells\":{\"fill\":{\"color\":\"#EBF0F8\"},\"line\":{\"color\":\"white\"}},\"header\":{\"fill\":{\"color\":\"#C8D4E3\"},\"line\":{\"color\":\"white\"}},\"type\":\"table\"}],\"barpolar\":[{\"marker\":{\"line\":{\"color\":\"#E5ECF6\",\"width\":0.5},\"pattern\":{\"fillmode\":\"overlay\",\"size\":10,\"solidity\":0.2}},\"type\":\"barpolar\"}],\"pie\":[{\"automargin\":true,\"type\":\"pie\"}]},\"layout\":{\"autotypenumbers\":\"strict\",\"colorway\":[\"#636efa\",\"#EF553B\",\"#00cc96\",\"#ab63fa\",\"#FFA15A\",\"#19d3f3\",\"#FF6692\",\"#B6E880\",\"#FF97FF\",\"#FECB52\"],\"font\":{\"color\":\"#2a3f5f\"},\"hovermode\":\"closest\",\"hoverlabel\":{\"align\":\"left\"},\"paper_bgcolor\":\"white\",\"plot_bgcolor\":\"#E5ECF6\",\"polar\":{\"bgcolor\":\"#E5ECF6\",\"angularaxis\":{\"gridcolor\":\"white\",\"linecolor\":\"white\",\"ticks\":\"\"},\"radialaxis\":{\"gridcolor\":\"white\",\"linecolor\":\"white\",\"ticks\":\"\"}},\"ternary\":{\"bgcolor\":\"#E5ECF6\",\"aaxis\":{\"gridcolor\":\"white\",\"linecolor\":\"white\",\"ticks\":\"\"},\"baxis\":{\"gridcolor\":\"white\",\"linecolor\":\"white\",\"ticks\":\"\"},\"caxis\":{\"gridcolor\":\"white\",\"linecolor\":\"white\",\"ticks\":\"\"}},\"coloraxis\":{\"colorbar\":{\"outlinewidth\":0,\"ticks\":\"\"}},\"colorscale\":{\"sequential\":[[0.0,\"#0d0887\"],[0.1111111111111111,\"#46039f\"],[0.2222222222222222,\"#7201a8\"],[0.3333333333333333,\"#9c179e\"],[0.4444444444444444,\"#bd3786\"],[0.5555555555555556,\"#d8576b\"],[0.6666666666666666,\"#ed7953\"],[0.7777777777777778,\"#fb9f3a\"],[0.8888888888888888,\"#fdca26\"],[1.0,\"#f0f921\"]],\"sequentialminus\":[[0.0,\"#0d0887\"],[0.1111111111111111,\"#46039f\"],[0.2222222222222222,\"#7201a8\"],[0.3333333333333333,\"#9c179e\"],[0.4444444444444444,\"#bd3786\"],[0.5555555555555556,\"#d8576b\"],[0.6666666666666666,\"#ed7953\"],[0.7777777777777778,\"#fb9f3a\"],[0.8888888888888888,\"#fdca26\"],[1.0,\"#f0f921\"]],\"diverging\":[[0,\"#8e0152\"],[0.1,\"#c51b7d\"],[0.2,\"#de77ae\"],[0.3,\"#f1b6da\"],[0.4,\"#fde0ef\"],[0.5,\"#f7f7f7\"],[0.6,\"#e6f5d0\"],[0.7,\"#b8e186\"],[0.8,\"#7fbc41\"],[0.9,\"#4d9221\"],[1,\"#276419\"]]},\"xaxis\":{\"gridcolor\":\"white\",\"linecolor\":\"white\",\"ticks\":\"\",\"title\":{\"standoff\":15},\"zerolinecolor\":\"white\",\"automargin\":true,\"zerolinewidth\":2},\"yaxis\":{\"gridcolor\":\"white\",\"linecolor\":\"white\",\"ticks\":\"\",\"title\":{\"standoff\":15},\"zerolinecolor\":\"white\",\"automargin\":true,\"zerolinewidth\":2},\"scene\":{\"xaxis\":{\"backgroundcolor\":\"#E5ECF6\",\"gridcolor\":\"white\",\"linecolor\":\"white\",\"showbackground\":true,\"ticks\":\"\",\"zerolinecolor\":\"white\",\"gridwidth\":2},\"yaxis\":{\"backgroundcolor\":\"#E5ECF6\",\"gridcolor\":\"white\",\"linecolor\":\"white\",\"showbackground\":true,\"ticks\":\"\",\"zerolinecolor\":\"white\",\"gridwidth\":2},\"zaxis\":{\"backgroundcolor\":\"#E5ECF6\",\"gridcolor\":\"white\",\"linecolor\":\"white\",\"showbackground\":true,\"ticks\":\"\",\"zerolinecolor\":\"white\",\"gridwidth\":2}},\"shapedefaults\":{\"line\":{\"color\":\"#2a3f5f\"}},\"annotationdefaults\":{\"arrowcolor\":\"#2a3f5f\",\"arrowhead\":0,\"arrowwidth\":1},\"geo\":{\"bgcolor\":\"white\",\"landcolor\":\"#E5ECF6\",\"subunitcolor\":\"white\",\"showland\":true,\"showlakes\":true,\"lakecolor\":\"white\"},\"title\":{\"x\":0.05},\"mapbox\":{\"style\":\"light\"}}},\"xaxis\":{\"anchor\":\"y\",\"domain\":[0.0,1.0]},\"yaxis\":{\"anchor\":\"x\",\"domain\":[0.0,1.0]},\"legend\":{\"tracegroupgap\":0},\"title\":{\"text\":\"iteration\\u002fmetrics\"},\"height\":500},                        {\"responsive\": true}                    ).then(function(){\n",
              "                            \n",
              "var gd = document.getElementById('514a204b-ca22-4dd1-ba0b-da5e67d11794');\n",
              "var x = new MutationObserver(function (mutations, observer) {{\n",
              "        var display = window.getComputedStyle(gd).display;\n",
              "        if (!display || display === 'none') {{\n",
              "            console.log([gd, 'removed!']);\n",
              "            Plotly.purge(gd);\n",
              "            observer.disconnect();\n",
              "        }}\n",
              "}});\n",
              "\n",
              "// Listen for the removal of the full notebook cells\n",
              "var notebookContainer = gd.closest('#notebook-container');\n",
              "if (notebookContainer) {{\n",
              "    x.observe(notebookContainer, {childList: true});\n",
              "}}\n",
              "\n",
              "// Listen for the clearing of the current output cell\n",
              "var outputEl = gd.closest('.output');\n",
              "if (outputEl) {{\n",
              "    x.observe(outputEl, {childList: true});\n",
              "}}\n",
              "\n",
              "                        })                };                            </script>        </div>\n",
              "</body>\n",
              "</html>"
            ]
          },
          "metadata": {}
        }
      ],
      "source": [
        "models = {\n",
        "    'exponantial': [history3],\n",
        "    'one_cycle': [history4],\n",
        "}\n",
        "\n",
        "x_axis = [i for i in range(50)]\n",
        "fig = px.line(title='iteration/metrics', height=500)\n",
        "for m in models.keys():\n",
        "    fig.add_scatter(x=x_axis, y=models[m][0].history['loss'], name=f'{m}-loss')\n",
        "    fig.add_scatter(x=x_axis, y=models[m][0].history['accuracy'], name=f'{m}-accuracy')\n",
        "fig.show()"
      ]
    },
    {
      "cell_type": "code",
      "execution_count": 59,
      "id": "9dd0f94b-cd1d-4860-aee1-f93d3ac54a48",
      "metadata": {
        "colab": {
          "base_uri": "https://localhost:8080/"
        },
        "id": "9dd0f94b-cd1d-4860-aee1-f93d3ac54a48",
        "outputId": "35cd97dc-bf4a-481d-8e4f-faad924398a7"
      },
      "outputs": [
        {
          "output_type": "stream",
          "name": "stdout",
          "text": [
            "282/282 [==============================] - 1s 2ms/step\n",
            "              precision    recall  f1-score   support\n",
            "\n",
            "           0       0.57      0.75      0.65       904\n",
            "           1       0.70      0.81      0.75       886\n",
            "           2       0.50      0.64      0.56       901\n",
            "           3       0.48      0.45      0.47       963\n",
            "           4       0.74      0.35      0.47       868\n",
            "           5       0.61      0.45      0.52       904\n",
            "           6       0.55      0.84      0.67       858\n",
            "           7       0.88      0.58      0.70       930\n",
            "           8       0.64      0.87      0.74       885\n",
            "           9       0.88      0.52      0.65       901\n",
            "\n",
            "    accuracy                           0.62      9000\n",
            "   macro avg       0.66      0.63      0.62      9000\n",
            "weighted avg       0.66      0.62      0.62      9000\n",
            "\n"
          ]
        }
      ],
      "source": [
        "# exponantial lr\n",
        "metrics_report(model3, X_test, Y_test)"
      ]
    },
    {
      "cell_type": "code",
      "execution_count": 60,
      "id": "4679b634-d1e6-4657-b628-bc866dcfb9d1",
      "metadata": {
        "colab": {
          "base_uri": "https://localhost:8080/"
        },
        "id": "4679b634-d1e6-4657-b628-bc866dcfb9d1",
        "outputId": "1f62d8dc-e7d0-4263-f169-2d28dc7aea01"
      },
      "outputs": [
        {
          "output_type": "stream",
          "name": "stdout",
          "text": [
            "282/282 [==============================] - 1s 2ms/step\n",
            "              precision    recall  f1-score   support\n",
            "\n",
            "           0       0.73      0.73      0.73       904\n",
            "           1       0.80      0.82      0.81       886\n",
            "           2       0.62      0.56      0.59       901\n",
            "           3       0.58      0.49      0.53       963\n",
            "           4       0.64      0.69      0.67       868\n",
            "           5       0.62      0.58      0.60       904\n",
            "           6       0.72      0.81      0.76       858\n",
            "           7       0.75      0.80      0.77       930\n",
            "           8       0.80      0.81      0.80       885\n",
            "           9       0.77      0.79      0.78       901\n",
            "\n",
            "    accuracy                           0.71      9000\n",
            "   macro avg       0.70      0.71      0.71      9000\n",
            "weighted avg       0.70      0.71      0.70      9000\n",
            "\n"
          ]
        }
      ],
      "source": [
        "# 1cycle lr\n",
        "metrics_report(model4, X_test, Y_test)"
      ]
    },
    {
      "cell_type": "markdown",
      "id": "2cd2f5ad-b036-44b7-a96d-f39f3523dcc6",
      "metadata": {
        "id": "2cd2f5ad-b036-44b7-a96d-f39f3523dcc6"
      },
      "source": [
        "# _______________________________"
      ]
    },
    {
      "cell_type": "markdown",
      "id": "e66a1976-636e-4727-b401-02d14f8894e3",
      "metadata": {
        "id": "e66a1976-636e-4727-b401-02d14f8894e3"
      },
      "source": [
        "# *** stride ***"
      ]
    },
    {
      "cell_type": "markdown",
      "id": "7660182e-972e-4ff0-8cef-88ce93811fd3",
      "metadata": {
        "id": "7660182e-972e-4ff0-8cef-88ce93811fd3"
      },
      "source": [
        "# CNN without PoolingLayer"
      ]
    },
    {
      "cell_type": "code",
      "execution_count": 61,
      "id": "1d21a510-153f-4731-813a-5c67a2a0eb96",
      "metadata": {
        "id": "1d21a510-153f-4731-813a-5c67a2a0eb96"
      },
      "outputs": [],
      "source": [
        "# create model\n",
        "model5 = keras.models.Sequential([\n",
        "    keras.layers.Conv2D(50, 5, activation='selu', padding='same', input_shape=X_train.shape[1:]),\n",
        "    keras.layers.Conv2D(100, 3, activation='selu', padding='same'),\n",
        "    keras.layers.Conv2D(200, 3, activation='selu', padding='same'),\n",
        "    keras.layers.Flatten(),\n",
        "    keras.layers.BatchNormalization(),\n",
        "    keras.layers.Dense(100, activation='elu'),\n",
        "    keras.layers.BatchNormalization(),\n",
        "    keras.layers.Dense(100, activation='elu'),\n",
        "    keras.layers.Dropout(0.2),\n",
        "    keras.layers.Dense(10, activation='softmax')\n",
        "])"
      ]
    },
    {
      "cell_type": "code",
      "execution_count": 62,
      "id": "42d44727-e442-4eda-923f-359c4fe212fe",
      "metadata": {
        "id": "42d44727-e442-4eda-923f-359c4fe212fe"
      },
      "outputs": [],
      "source": [
        "# compile model\n",
        "model5.compile(loss='sparse_categorical_crossentropy', metrics=['accuracy'], optimizer=keras.optimizers.Adam())"
      ]
    },
    {
      "cell_type": "code",
      "execution_count": 63,
      "id": "655a5db3-8f14-4f3c-8e7a-2573c0fc5b92",
      "metadata": {
        "colab": {
          "base_uri": "https://localhost:8080/"
        },
        "id": "655a5db3-8f14-4f3c-8e7a-2573c0fc5b92",
        "outputId": "1a2da542-b64d-4505-c615-3853837b5ba5"
      },
      "outputs": [
        {
          "output_type": "stream",
          "name": "stdout",
          "text": [
            "Epoch 1/50\n",
            "1435/1435 [==============================] - 38s 24ms/step - loss: 1.4606 - accuracy: 0.4780 - val_loss: 1.1344 - val_accuracy: 0.5955\n",
            "Epoch 2/50\n",
            "1435/1435 [==============================] - 34s 24ms/step - loss: 1.0401 - accuracy: 0.6333 - val_loss: 1.1335 - val_accuracy: 0.6124\n",
            "Epoch 3/50\n",
            "1435/1435 [==============================] - 34s 24ms/step - loss: 0.8503 - accuracy: 0.7029 - val_loss: 0.9095 - val_accuracy: 0.6824\n",
            "Epoch 4/50\n",
            "1435/1435 [==============================] - 34s 24ms/step - loss: 0.6751 - accuracy: 0.7618 - val_loss: 0.8985 - val_accuracy: 0.6925\n",
            "Epoch 5/50\n",
            "1435/1435 [==============================] - 34s 24ms/step - loss: 0.5120 - accuracy: 0.8233 - val_loss: 0.9902 - val_accuracy: 0.6925\n",
            "Epoch 6/50\n",
            "1435/1435 [==============================] - 34s 24ms/step - loss: 0.3948 - accuracy: 0.8606 - val_loss: 1.1249 - val_accuracy: 0.6639\n",
            "Epoch 7/50\n",
            "1435/1435 [==============================] - 34s 24ms/step - loss: 0.2881 - accuracy: 0.8981 - val_loss: 1.6531 - val_accuracy: 0.6251\n",
            "Epoch 8/50\n",
            "1435/1435 [==============================] - 34s 24ms/step - loss: 0.2485 - accuracy: 0.9142 - val_loss: 1.3721 - val_accuracy: 0.6596\n",
            "Epoch 9/50\n",
            "1435/1435 [==============================] - 34s 24ms/step - loss: 0.2100 - accuracy: 0.9282 - val_loss: 1.8512 - val_accuracy: 0.6322\n",
            "Epoch 10/50\n",
            "1435/1435 [==============================] - 34s 24ms/step - loss: 0.2201 - accuracy: 0.9236 - val_loss: 2.1401 - val_accuracy: 0.6308\n",
            "Epoch 11/50\n",
            "1435/1435 [==============================] - 34s 24ms/step - loss: 0.1711 - accuracy: 0.9410 - val_loss: 1.9571 - val_accuracy: 0.6400\n",
            "Epoch 12/50\n",
            "1435/1435 [==============================] - 34s 24ms/step - loss: 0.1639 - accuracy: 0.9429 - val_loss: 1.6337 - val_accuracy: 0.6649\n",
            "Epoch 13/50\n",
            "1435/1435 [==============================] - 34s 24ms/step - loss: 0.1612 - accuracy: 0.9443 - val_loss: 1.8859 - val_accuracy: 0.6476\n",
            "Epoch 14/50\n",
            "1435/1435 [==============================] - 34s 24ms/step - loss: 0.1341 - accuracy: 0.9537 - val_loss: 3.6614 - val_accuracy: 0.5459\n"
          ]
        }
      ],
      "source": [
        "# fit model\n",
        "t1 = time.time() # start timer\n",
        "history5 = model5.fit(X_train, Y_train, epochs=50, validation_data=(X_val, Y_val), callbacks=[earlystopping_callback])\n",
        "t2 = time.time() # end timer"
      ]
    },
    {
      "cell_type": "code",
      "execution_count": 64,
      "id": "5ee394a0-8e7f-4b5f-abe3-8efd91370a44",
      "metadata": {
        "colab": {
          "base_uri": "https://localhost:8080/",
          "height": 517
        },
        "id": "5ee394a0-8e7f-4b5f-abe3-8efd91370a44",
        "outputId": "0a4174bb-9758-43c8-e4e5-0f5be9b0f025"
      },
      "outputs": [
        {
          "output_type": "display_data",
          "data": {
            "text/html": [
              "<html>\n",
              "<head><meta charset=\"utf-8\" /></head>\n",
              "<body>\n",
              "    <div>            <script src=\"https://cdnjs.cloudflare.com/ajax/libs/mathjax/2.7.5/MathJax.js?config=TeX-AMS-MML_SVG\"></script><script type=\"text/javascript\">if (window.MathJax && window.MathJax.Hub && window.MathJax.Hub.Config) {window.MathJax.Hub.Config({SVG: {font: \"STIX-Web\"}});}</script>                <script type=\"text/javascript\">window.PlotlyConfig = {MathJaxConfig: 'local'};</script>\n",
              "        <script charset=\"utf-8\" src=\"https://cdn.plot.ly/plotly-2.24.1.min.js\"></script>                <div id=\"755de910-f58c-40a0-a47e-2b8ab4db831a\" class=\"plotly-graph-div\" style=\"height:500px; width:100%;\"></div>            <script type=\"text/javascript\">                                    window.PLOTLYENV=window.PLOTLYENV || {};                                    if (document.getElementById(\"755de910-f58c-40a0-a47e-2b8ab4db831a\")) {                    Plotly.newPlot(                        \"755de910-f58c-40a0-a47e-2b8ab4db831a\",                        [{\"hovertemplate\":\"\\u003cextra\\u003e\\u003c\\u002fextra\\u003e\",\"legendgroup\":\"\",\"line\":{\"color\":\"#636efa\",\"dash\":\"solid\"},\"marker\":{\"symbol\":\"circle\"},\"mode\":\"lines\",\"name\":\"\",\"orientation\":\"v\",\"showlegend\":false,\"xaxis\":\"x\",\"yaxis\":\"y\",\"type\":\"scatter\"},{\"name\":\"loss\",\"x\":[0,1,2,3,4,5,6,7,8,9,10,11,12,13],\"y\":[1.4605627059936523,1.0401389598846436,0.8502666354179382,0.6750935316085815,0.51195228099823,0.394767701625824,0.28808560967445374,0.24851003289222717,0.21000352501869202,0.22012348473072052,0.1710623800754547,0.16386009752750397,0.16116461157798767,0.13414056599140167],\"type\":\"scatter\"},{\"name\":\"accuracy\",\"x\":[0,1,2,3,4,5,6,7,8,9,10,11,12,13],\"y\":[0.4780392050743103,0.6332897543907166,0.7028757929801941,0.7617865204811096,0.8232897520065308,0.8606100082397461,0.8981481194496155,0.9142483472824097,0.9281917214393616,0.9236383438110352,0.9409586191177368,0.9429193735122681,0.9443137049674988,0.9536601305007935],\"type\":\"scatter\"},{\"name\":\"val loss\",\"x\":[0,1,2,3,4,5,6,7,8,9,10,11,12,13],\"y\":[1.1344072818756104,1.133495569229126,0.9094857573509216,0.898537814617157,0.9902036190032959,1.1249499320983887,1.653082251548767,1.372084617614746,1.8512470722198486,2.14009428024292,1.9571067094802856,1.6337230205535889,1.8858650922775269,3.6614339351654053],\"type\":\"scatter\"},{\"name\":\"val accuracy\",\"x\":[0,1,2,3,4,5,6,7,8,9,10,11,12,13],\"y\":[0.5954902172088623,0.6123529672622681,0.6823529601097107,0.6925489902496338,0.6925489902496338,0.663921594619751,0.6250980496406555,0.6596078276634216,0.6321568489074707,0.6307843327522278,0.6399999856948853,0.6649019718170166,0.6476470828056335,0.5458823442459106],\"type\":\"scatter\"}],                        {\"template\":{\"data\":{\"histogram2dcontour\":[{\"type\":\"histogram2dcontour\",\"colorbar\":{\"outlinewidth\":0,\"ticks\":\"\"},\"colorscale\":[[0.0,\"#0d0887\"],[0.1111111111111111,\"#46039f\"],[0.2222222222222222,\"#7201a8\"],[0.3333333333333333,\"#9c179e\"],[0.4444444444444444,\"#bd3786\"],[0.5555555555555556,\"#d8576b\"],[0.6666666666666666,\"#ed7953\"],[0.7777777777777778,\"#fb9f3a\"],[0.8888888888888888,\"#fdca26\"],[1.0,\"#f0f921\"]]}],\"choropleth\":[{\"type\":\"choropleth\",\"colorbar\":{\"outlinewidth\":0,\"ticks\":\"\"}}],\"histogram2d\":[{\"type\":\"histogram2d\",\"colorbar\":{\"outlinewidth\":0,\"ticks\":\"\"},\"colorscale\":[[0.0,\"#0d0887\"],[0.1111111111111111,\"#46039f\"],[0.2222222222222222,\"#7201a8\"],[0.3333333333333333,\"#9c179e\"],[0.4444444444444444,\"#bd3786\"],[0.5555555555555556,\"#d8576b\"],[0.6666666666666666,\"#ed7953\"],[0.7777777777777778,\"#fb9f3a\"],[0.8888888888888888,\"#fdca26\"],[1.0,\"#f0f921\"]]}],\"heatmap\":[{\"type\":\"heatmap\",\"colorbar\":{\"outlinewidth\":0,\"ticks\":\"\"},\"colorscale\":[[0.0,\"#0d0887\"],[0.1111111111111111,\"#46039f\"],[0.2222222222222222,\"#7201a8\"],[0.3333333333333333,\"#9c179e\"],[0.4444444444444444,\"#bd3786\"],[0.5555555555555556,\"#d8576b\"],[0.6666666666666666,\"#ed7953\"],[0.7777777777777778,\"#fb9f3a\"],[0.8888888888888888,\"#fdca26\"],[1.0,\"#f0f921\"]]}],\"heatmapgl\":[{\"type\":\"heatmapgl\",\"colorbar\":{\"outlinewidth\":0,\"ticks\":\"\"},\"colorscale\":[[0.0,\"#0d0887\"],[0.1111111111111111,\"#46039f\"],[0.2222222222222222,\"#7201a8\"],[0.3333333333333333,\"#9c179e\"],[0.4444444444444444,\"#bd3786\"],[0.5555555555555556,\"#d8576b\"],[0.6666666666666666,\"#ed7953\"],[0.7777777777777778,\"#fb9f3a\"],[0.8888888888888888,\"#fdca26\"],[1.0,\"#f0f921\"]]}],\"contourcarpet\":[{\"type\":\"contourcarpet\",\"colorbar\":{\"outlinewidth\":0,\"ticks\":\"\"}}],\"contour\":[{\"type\":\"contour\",\"colorbar\":{\"outlinewidth\":0,\"ticks\":\"\"},\"colorscale\":[[0.0,\"#0d0887\"],[0.1111111111111111,\"#46039f\"],[0.2222222222222222,\"#7201a8\"],[0.3333333333333333,\"#9c179e\"],[0.4444444444444444,\"#bd3786\"],[0.5555555555555556,\"#d8576b\"],[0.6666666666666666,\"#ed7953\"],[0.7777777777777778,\"#fb9f3a\"],[0.8888888888888888,\"#fdca26\"],[1.0,\"#f0f921\"]]}],\"surface\":[{\"type\":\"surface\",\"colorbar\":{\"outlinewidth\":0,\"ticks\":\"\"},\"colorscale\":[[0.0,\"#0d0887\"],[0.1111111111111111,\"#46039f\"],[0.2222222222222222,\"#7201a8\"],[0.3333333333333333,\"#9c179e\"],[0.4444444444444444,\"#bd3786\"],[0.5555555555555556,\"#d8576b\"],[0.6666666666666666,\"#ed7953\"],[0.7777777777777778,\"#fb9f3a\"],[0.8888888888888888,\"#fdca26\"],[1.0,\"#f0f921\"]]}],\"mesh3d\":[{\"type\":\"mesh3d\",\"colorbar\":{\"outlinewidth\":0,\"ticks\":\"\"}}],\"scatter\":[{\"fillpattern\":{\"fillmode\":\"overlay\",\"size\":10,\"solidity\":0.2},\"type\":\"scatter\"}],\"parcoords\":[{\"type\":\"parcoords\",\"line\":{\"colorbar\":{\"outlinewidth\":0,\"ticks\":\"\"}}}],\"scatterpolargl\":[{\"type\":\"scatterpolargl\",\"marker\":{\"colorbar\":{\"outlinewidth\":0,\"ticks\":\"\"}}}],\"bar\":[{\"error_x\":{\"color\":\"#2a3f5f\"},\"error_y\":{\"color\":\"#2a3f5f\"},\"marker\":{\"line\":{\"color\":\"#E5ECF6\",\"width\":0.5},\"pattern\":{\"fillmode\":\"overlay\",\"size\":10,\"solidity\":0.2}},\"type\":\"bar\"}],\"scattergeo\":[{\"type\":\"scattergeo\",\"marker\":{\"colorbar\":{\"outlinewidth\":0,\"ticks\":\"\"}}}],\"scatterpolar\":[{\"type\":\"scatterpolar\",\"marker\":{\"colorbar\":{\"outlinewidth\":0,\"ticks\":\"\"}}}],\"histogram\":[{\"marker\":{\"pattern\":{\"fillmode\":\"overlay\",\"size\":10,\"solidity\":0.2}},\"type\":\"histogram\"}],\"scattergl\":[{\"type\":\"scattergl\",\"marker\":{\"colorbar\":{\"outlinewidth\":0,\"ticks\":\"\"}}}],\"scatter3d\":[{\"type\":\"scatter3d\",\"line\":{\"colorbar\":{\"outlinewidth\":0,\"ticks\":\"\"}},\"marker\":{\"colorbar\":{\"outlinewidth\":0,\"ticks\":\"\"}}}],\"scattermapbox\":[{\"type\":\"scattermapbox\",\"marker\":{\"colorbar\":{\"outlinewidth\":0,\"ticks\":\"\"}}}],\"scatterternary\":[{\"type\":\"scatterternary\",\"marker\":{\"colorbar\":{\"outlinewidth\":0,\"ticks\":\"\"}}}],\"scattercarpet\":[{\"type\":\"scattercarpet\",\"marker\":{\"colorbar\":{\"outlinewidth\":0,\"ticks\":\"\"}}}],\"carpet\":[{\"aaxis\":{\"endlinecolor\":\"#2a3f5f\",\"gridcolor\":\"white\",\"linecolor\":\"white\",\"minorgridcolor\":\"white\",\"startlinecolor\":\"#2a3f5f\"},\"baxis\":{\"endlinecolor\":\"#2a3f5f\",\"gridcolor\":\"white\",\"linecolor\":\"white\",\"minorgridcolor\":\"white\",\"startlinecolor\":\"#2a3f5f\"},\"type\":\"carpet\"}],\"table\":[{\"cells\":{\"fill\":{\"color\":\"#EBF0F8\"},\"line\":{\"color\":\"white\"}},\"header\":{\"fill\":{\"color\":\"#C8D4E3\"},\"line\":{\"color\":\"white\"}},\"type\":\"table\"}],\"barpolar\":[{\"marker\":{\"line\":{\"color\":\"#E5ECF6\",\"width\":0.5},\"pattern\":{\"fillmode\":\"overlay\",\"size\":10,\"solidity\":0.2}},\"type\":\"barpolar\"}],\"pie\":[{\"automargin\":true,\"type\":\"pie\"}]},\"layout\":{\"autotypenumbers\":\"strict\",\"colorway\":[\"#636efa\",\"#EF553B\",\"#00cc96\",\"#ab63fa\",\"#FFA15A\",\"#19d3f3\",\"#FF6692\",\"#B6E880\",\"#FF97FF\",\"#FECB52\"],\"font\":{\"color\":\"#2a3f5f\"},\"hovermode\":\"closest\",\"hoverlabel\":{\"align\":\"left\"},\"paper_bgcolor\":\"white\",\"plot_bgcolor\":\"#E5ECF6\",\"polar\":{\"bgcolor\":\"#E5ECF6\",\"angularaxis\":{\"gridcolor\":\"white\",\"linecolor\":\"white\",\"ticks\":\"\"},\"radialaxis\":{\"gridcolor\":\"white\",\"linecolor\":\"white\",\"ticks\":\"\"}},\"ternary\":{\"bgcolor\":\"#E5ECF6\",\"aaxis\":{\"gridcolor\":\"white\",\"linecolor\":\"white\",\"ticks\":\"\"},\"baxis\":{\"gridcolor\":\"white\",\"linecolor\":\"white\",\"ticks\":\"\"},\"caxis\":{\"gridcolor\":\"white\",\"linecolor\":\"white\",\"ticks\":\"\"}},\"coloraxis\":{\"colorbar\":{\"outlinewidth\":0,\"ticks\":\"\"}},\"colorscale\":{\"sequential\":[[0.0,\"#0d0887\"],[0.1111111111111111,\"#46039f\"],[0.2222222222222222,\"#7201a8\"],[0.3333333333333333,\"#9c179e\"],[0.4444444444444444,\"#bd3786\"],[0.5555555555555556,\"#d8576b\"],[0.6666666666666666,\"#ed7953\"],[0.7777777777777778,\"#fb9f3a\"],[0.8888888888888888,\"#fdca26\"],[1.0,\"#f0f921\"]],\"sequentialminus\":[[0.0,\"#0d0887\"],[0.1111111111111111,\"#46039f\"],[0.2222222222222222,\"#7201a8\"],[0.3333333333333333,\"#9c179e\"],[0.4444444444444444,\"#bd3786\"],[0.5555555555555556,\"#d8576b\"],[0.6666666666666666,\"#ed7953\"],[0.7777777777777778,\"#fb9f3a\"],[0.8888888888888888,\"#fdca26\"],[1.0,\"#f0f921\"]],\"diverging\":[[0,\"#8e0152\"],[0.1,\"#c51b7d\"],[0.2,\"#de77ae\"],[0.3,\"#f1b6da\"],[0.4,\"#fde0ef\"],[0.5,\"#f7f7f7\"],[0.6,\"#e6f5d0\"],[0.7,\"#b8e186\"],[0.8,\"#7fbc41\"],[0.9,\"#4d9221\"],[1,\"#276419\"]]},\"xaxis\":{\"gridcolor\":\"white\",\"linecolor\":\"white\",\"ticks\":\"\",\"title\":{\"standoff\":15},\"zerolinecolor\":\"white\",\"automargin\":true,\"zerolinewidth\":2},\"yaxis\":{\"gridcolor\":\"white\",\"linecolor\":\"white\",\"ticks\":\"\",\"title\":{\"standoff\":15},\"zerolinecolor\":\"white\",\"automargin\":true,\"zerolinewidth\":2},\"scene\":{\"xaxis\":{\"backgroundcolor\":\"#E5ECF6\",\"gridcolor\":\"white\",\"linecolor\":\"white\",\"showbackground\":true,\"ticks\":\"\",\"zerolinecolor\":\"white\",\"gridwidth\":2},\"yaxis\":{\"backgroundcolor\":\"#E5ECF6\",\"gridcolor\":\"white\",\"linecolor\":\"white\",\"showbackground\":true,\"ticks\":\"\",\"zerolinecolor\":\"white\",\"gridwidth\":2},\"zaxis\":{\"backgroundcolor\":\"#E5ECF6\",\"gridcolor\":\"white\",\"linecolor\":\"white\",\"showbackground\":true,\"ticks\":\"\",\"zerolinecolor\":\"white\",\"gridwidth\":2}},\"shapedefaults\":{\"line\":{\"color\":\"#2a3f5f\"}},\"annotationdefaults\":{\"arrowcolor\":\"#2a3f5f\",\"arrowhead\":0,\"arrowwidth\":1},\"geo\":{\"bgcolor\":\"white\",\"landcolor\":\"#E5ECF6\",\"subunitcolor\":\"white\",\"showland\":true,\"showlakes\":true,\"lakecolor\":\"white\"},\"title\":{\"x\":0.05},\"mapbox\":{\"style\":\"light\"}}},\"xaxis\":{\"anchor\":\"y\",\"domain\":[0.0,1.0]},\"yaxis\":{\"anchor\":\"x\",\"domain\":[0.0,1.0]},\"legend\":{\"tracegroupgap\":0},\"title\":{\"text\":\"iteration\\u002fmetrics\"},\"height\":500},                        {\"responsive\": true}                    ).then(function(){\n",
              "                            \n",
              "var gd = document.getElementById('755de910-f58c-40a0-a47e-2b8ab4db831a');\n",
              "var x = new MutationObserver(function (mutations, observer) {{\n",
              "        var display = window.getComputedStyle(gd).display;\n",
              "        if (!display || display === 'none') {{\n",
              "            console.log([gd, 'removed!']);\n",
              "            Plotly.purge(gd);\n",
              "            observer.disconnect();\n",
              "        }}\n",
              "}});\n",
              "\n",
              "// Listen for the removal of the full notebook cells\n",
              "var notebookContainer = gd.closest('#notebook-container');\n",
              "if (notebookContainer) {{\n",
              "    x.observe(notebookContainer, {childList: true});\n",
              "}}\n",
              "\n",
              "// Listen for the clearing of the current output cell\n",
              "var outputEl = gd.closest('.output');\n",
              "if (outputEl) {{\n",
              "    x.observe(outputEl, {childList: true});\n",
              "}}\n",
              "\n",
              "                        })                };                            </script>        </div>\n",
              "</body>\n",
              "</html>"
            ]
          },
          "metadata": {}
        }
      ],
      "source": [
        "def plot_history(history):\n",
        "    x_axis = [i for i in range(len(history['accuracy']))]\n",
        "    fig = px.line(title='iteration/metrics', height=500)\n",
        "    fig.add_scatter(x=x_axis, y=history['loss'], name='loss')\n",
        "    fig.add_scatter(x=x_axis, y=history['accuracy'], name='accuracy')\n",
        "    fig.add_scatter(x=x_axis, y=history['val_loss'], name='val loss')\n",
        "    fig.add_scatter(x=x_axis, y=history['val_accuracy'], name='val accuracy')\n",
        "    fig.show()\n",
        "\n",
        "plot_history(history5.history)"
      ]
    },
    {
      "cell_type": "code",
      "execution_count": 65,
      "id": "2b33adfb-a28f-4fdd-8a3f-9686755e0e9d",
      "metadata": {
        "colab": {
          "base_uri": "https://localhost:8080/"
        },
        "id": "2b33adfb-a28f-4fdd-8a3f-9686755e0e9d",
        "outputId": "5d28334d-c059-4ce6-d7d5-191008728166"
      },
      "outputs": [
        {
          "output_type": "stream",
          "name": "stdout",
          "text": [
            "learning runtime: 483 sec\n"
          ]
        }
      ],
      "source": [
        "learning_runtime(t1, t2)"
      ]
    },
    {
      "cell_type": "markdown",
      "id": "dc546a69-3c32-43e2-97f6-b3372a19eefc",
      "metadata": {
        "id": "dc546a69-3c32-43e2-97f6-b3372a19eefc"
      },
      "source": [
        "# CNN with stride=2"
      ]
    },
    {
      "cell_type": "code",
      "execution_count": 69,
      "id": "5530da91-b1f1-4880-aff9-3cb19e053bf9",
      "metadata": {
        "id": "5530da91-b1f1-4880-aff9-3cb19e053bf9"
      },
      "outputs": [],
      "source": [
        "# create model\n",
        "model6 = keras.models.Sequential([\n",
        "    keras.layers.Conv2D(50, 5, activation='selu', padding='same', input_shape=X_train.shape[1:], strides=2),\n",
        "    keras.layers.MaxPooling2D(2),\n",
        "    keras.layers.Conv2D(100, 3, activation='selu', padding='same', strides=2),\n",
        "    keras.layers.MaxPooling2D(2),\n",
        "    keras.layers.Conv2D(200, 3, activation='selu', padding='same'),\n",
        "    keras.layers.MaxPooling2D(2),\n",
        "    keras.layers.Flatten(),\n",
        "    keras.layers.BatchNormalization(),\n",
        "    keras.layers.Dense(100, activation='elu'),\n",
        "    keras.layers.BatchNormalization(),\n",
        "    keras.layers.Dense(100, activation='elu'),\n",
        "    keras.layers.Dropout(0.2),\n",
        "    keras.layers.Dense(10, activation='softmax')\n",
        "])"
      ]
    },
    {
      "cell_type": "code",
      "execution_count": 70,
      "id": "38b6b3b8-efd4-4a72-b940-46095087a105",
      "metadata": {
        "id": "38b6b3b8-efd4-4a72-b940-46095087a105"
      },
      "outputs": [],
      "source": [
        "# compile model\n",
        "model6.compile(loss='sparse_categorical_crossentropy', metrics=['accuracy'], optimizer=keras.optimizers.Adam())"
      ]
    },
    {
      "cell_type": "code",
      "execution_count": 71,
      "id": "a3d9eed8-39e6-4f40-8939-563b5a282943",
      "metadata": {
        "colab": {
          "base_uri": "https://localhost:8080/"
        },
        "id": "a3d9eed8-39e6-4f40-8939-563b5a282943",
        "outputId": "6da34000-0a8d-44a3-c0ff-556a90189d00"
      },
      "outputs": [
        {
          "metadata": {
            "tags": null
          },
          "name": "stdout",
          "output_type": "stream",
          "text": [
            "Epoch 1/50\n",
            "1435/1435 [==============================] - 24s 11ms/step - loss: 1.5441 - accuracy: 0.4425 - val_loss: 1.3167 - val_accuracy: 0.5190\n",
            "Epoch 2/50\n",
            "1435/1435 [==============================] - 9s 6ms/step - loss: 1.2400 - accuracy: 0.5571 - val_loss: 1.2974 - val_accuracy: 0.5355\n",
            "Epoch 3/50\n",
            "1435/1435 [==============================] - 9s 6ms/step - loss: 1.1017 - accuracy: 0.6120 - val_loss: 1.1993 - val_accuracy: 0.5737\n",
            "Epoch 4/50\n",
            "1435/1435 [==============================] - 8s 6ms/step - loss: 1.0227 - accuracy: 0.6406 - val_loss: 1.0718 - val_accuracy: 0.6241\n",
            "Epoch 5/50\n",
            "1435/1435 [==============================] - 9s 6ms/step - loss: 0.9527 - accuracy: 0.6649 - val_loss: 1.3942 - val_accuracy: 0.5416\n",
            "Epoch 6/50\n",
            "1435/1435 [==============================] - 9s 6ms/step - loss: 0.8929 - accuracy: 0.6858 - val_loss: 1.0913 - val_accuracy: 0.6353\n",
            "Epoch 7/50\n",
            "1435/1435 [==============================] - 8s 6ms/step - loss: 0.8468 - accuracy: 0.7052 - val_loss: 0.9209 - val_accuracy: 0.6753\n",
            "Epoch 8/50\n",
            "1435/1435 [==============================] - 9s 6ms/step - loss: 0.8017 - accuracy: 0.7190 - val_loss: 0.9954 - val_accuracy: 0.6604\n",
            "Epoch 9/50\n",
            "1435/1435 [==============================] - 9s 6ms/step - loss: 0.7663 - accuracy: 0.7316 - val_loss: 0.9258 - val_accuracy: 0.6827\n",
            "Epoch 10/50\n",
            "1435/1435 [==============================] - 9s 6ms/step - loss: 0.7344 - accuracy: 0.7412 - val_loss: 0.9956 - val_accuracy: 0.6673\n",
            "Epoch 11/50\n",
            "1435/1435 [==============================] - 8s 6ms/step - loss: 0.6999 - accuracy: 0.7548 - val_loss: 0.9101 - val_accuracy: 0.6976\n",
            "Epoch 12/50\n",
            "1435/1435 [==============================] - 9s 7ms/step - loss: 0.6725 - accuracy: 0.7639 - val_loss: 0.9584 - val_accuracy: 0.6808\n",
            "Epoch 13/50\n",
            "1435/1435 [==============================] - 9s 6ms/step - loss: 0.6431 - accuracy: 0.7744 - val_loss: 0.9295 - val_accuracy: 0.6982\n",
            "Epoch 14/50\n",
            "1435/1435 [==============================] - 8s 6ms/step - loss: 0.6128 - accuracy: 0.7838 - val_loss: 0.9946 - val_accuracy: 0.6722\n",
            "Epoch 15/50\n",
            "1435/1435 [==============================] - 9s 6ms/step - loss: 0.5900 - accuracy: 0.7943 - val_loss: 0.9866 - val_accuracy: 0.6892\n",
            "Epoch 16/50\n",
            "1435/1435 [==============================] - 9s 6ms/step - loss: 0.5974 - accuracy: 0.7919 - val_loss: 1.4642 - val_accuracy: 0.6057\n",
            "Epoch 17/50\n",
            "1435/1435 [==============================] - 9s 6ms/step - loss: 0.5582 - accuracy: 0.8055 - val_loss: 0.9804 - val_accuracy: 0.6976\n",
            "Epoch 18/50\n",
            "1435/1435 [==============================] - 8s 6ms/step - loss: 0.5176 - accuracy: 0.8180 - val_loss: 0.9729 - val_accuracy: 0.7061\n",
            "Epoch 19/50\n",
            "1435/1435 [==============================] - 9s 6ms/step - loss: 0.5129 - accuracy: 0.8204 - val_loss: 1.1512 - val_accuracy: 0.6778\n",
            "Epoch 20/50\n",
            "1435/1435 [==============================] - 10s 7ms/step - loss: 0.4732 - accuracy: 0.8334 - val_loss: 1.0565 - val_accuracy: 0.6925\n",
            "Epoch 21/50\n",
            "1435/1435 [==============================] - 9s 6ms/step - loss: 0.4586 - accuracy: 0.8368 - val_loss: 1.1706 - val_accuracy: 0.6743\n"
          ]
        }
      ],
      "source": [
        "# fit model\n",
        "t1 = time.time() # start timer\n",
        "history6 = model6.fit(X_train, Y_train, epochs=50, validation_data=(X_val, Y_val), callbacks=[earlystopping_callback])\n",
        "t2 = time.time() # end timer"
      ]
    },
    {
      "cell_type": "code",
      "execution_count": 74,
      "id": "71bf238d-dc26-4cb9-bd48-da272afa9bee",
      "metadata": {
        "colab": {
          "base_uri": "https://localhost:8080/"
        },
        "id": "71bf238d-dc26-4cb9-bd48-da272afa9bee",
        "outputId": "3307279f-9b42-4147-dcee-5267cb9ffc52"
      },
      "outputs": [
        {
          "output_type": "stream",
          "name": "stdout",
          "text": [
            "learning runtime: 203 sec\n"
          ]
        }
      ],
      "source": [
        "learning_runtime(t1, t2)"
      ]
    },
    {
      "cell_type": "markdown",
      "id": "68113ed9-6099-49ba-9b58-4c86b30c5178",
      "metadata": {
        "id": "68113ed9-6099-49ba-9b58-4c86b30c5178"
      },
      "source": [
        "# stride with stride=4"
      ]
    },
    {
      "cell_type": "code",
      "execution_count": 75,
      "id": "afcec875-a130-4896-a5e2-ce272a7c47be",
      "metadata": {
        "id": "afcec875-a130-4896-a5e2-ce272a7c47be"
      },
      "outputs": [],
      "source": [
        "# create model\n",
        "model7 = keras.models.Sequential([\n",
        "    keras.layers.Conv2D(50, 5, activation='selu', padding='same', input_shape=X_train.shape[1:], strides=4),\n",
        "    keras.layers.MaxPooling2D(2),\n",
        "    keras.layers.Conv2D(100, 3, activation='selu', padding='same'),\n",
        "    keras.layers.MaxPooling2D(2),\n",
        "    keras.layers.Conv2D(200, 3, activation='selu', padding='same'),\n",
        "    keras.layers.MaxPooling2D(2),\n",
        "    keras.layers.Flatten(),\n",
        "    keras.layers.BatchNormalization(),\n",
        "    keras.layers.Dense(100, activation='elu'),\n",
        "    keras.layers.BatchNormalization(),\n",
        "    keras.layers.Dense(100, activation='elu'),\n",
        "    keras.layers.Dropout(0.2),\n",
        "    keras.layers.Dense(10, activation='softmax')\n",
        "])"
      ]
    },
    {
      "cell_type": "code",
      "execution_count": 76,
      "id": "8b2ea0c8-06c8-4873-8682-fdc2d688407b",
      "metadata": {
        "id": "8b2ea0c8-06c8-4873-8682-fdc2d688407b"
      },
      "outputs": [],
      "source": [
        "# compile model\n",
        "model7.compile(loss='sparse_categorical_crossentropy', metrics=['accuracy'], optimizer=keras.optimizers.Adam())"
      ]
    },
    {
      "cell_type": "code",
      "execution_count": 77,
      "id": "9f36ec55-b346-4c73-8849-2073228ae758",
      "metadata": {
        "scrolled": true,
        "colab": {
          "base_uri": "https://localhost:8080/"
        },
        "id": "9f36ec55-b346-4c73-8849-2073228ae758",
        "outputId": "bbe43781-6a6b-420f-9889-735c06458172"
      },
      "outputs": [
        {
          "output_type": "stream",
          "name": "stdout",
          "text": [
            "Epoch 1/50\n",
            "1435/1435 [==============================] - 12s 6ms/step - loss: 1.5735 - accuracy: 0.4303 - val_loss: 1.5283 - val_accuracy: 0.4492\n",
            "Epoch 2/50\n",
            "1435/1435 [==============================] - 9s 6ms/step - loss: 1.3102 - accuracy: 0.5269 - val_loss: 1.5216 - val_accuracy: 0.4810\n",
            "Epoch 3/50\n",
            "1435/1435 [==============================] - 10s 7ms/step - loss: 1.1888 - accuracy: 0.5767 - val_loss: 1.1911 - val_accuracy: 0.5724\n",
            "Epoch 4/50\n",
            "1435/1435 [==============================] - 9s 6ms/step - loss: 1.1116 - accuracy: 0.6087 - val_loss: 1.4452 - val_accuracy: 0.5249\n",
            "Epoch 5/50\n",
            "1435/1435 [==============================] - 8s 6ms/step - loss: 1.0542 - accuracy: 0.6266 - val_loss: 1.1414 - val_accuracy: 0.6041\n",
            "Epoch 6/50\n",
            "1435/1435 [==============================] - 9s 6ms/step - loss: 0.9936 - accuracy: 0.6493 - val_loss: 1.3303 - val_accuracy: 0.5529\n",
            "Epoch 7/50\n",
            "1435/1435 [==============================] - 9s 6ms/step - loss: 0.9536 - accuracy: 0.6657 - val_loss: 1.0392 - val_accuracy: 0.6359\n",
            "Epoch 8/50\n",
            "1435/1435 [==============================] - 9s 6ms/step - loss: 0.9109 - accuracy: 0.6789 - val_loss: 1.0555 - val_accuracy: 0.6298\n",
            "Epoch 9/50\n",
            "1435/1435 [==============================] - 9s 6ms/step - loss: 0.8832 - accuracy: 0.6895 - val_loss: 1.3322 - val_accuracy: 0.5790\n",
            "Epoch 10/50\n",
            "1435/1435 [==============================] - 9s 6ms/step - loss: 0.8486 - accuracy: 0.7002 - val_loss: 1.0904 - val_accuracy: 0.6267\n",
            "Epoch 11/50\n",
            "1435/1435 [==============================] - 9s 6ms/step - loss: 0.8131 - accuracy: 0.7149 - val_loss: 1.0852 - val_accuracy: 0.6376\n",
            "Epoch 12/50\n",
            "1435/1435 [==============================] - 9s 6ms/step - loss: 0.7805 - accuracy: 0.7244 - val_loss: 1.2229 - val_accuracy: 0.6102\n",
            "Epoch 13/50\n",
            "1435/1435 [==============================] - 9s 6ms/step - loss: 0.7560 - accuracy: 0.7334 - val_loss: 1.1174 - val_accuracy: 0.6329\n",
            "Epoch 14/50\n",
            "1435/1435 [==============================] - 9s 6ms/step - loss: 0.7272 - accuracy: 0.7443 - val_loss: 1.3131 - val_accuracy: 0.5914\n",
            "Epoch 15/50\n",
            "1435/1435 [==============================] - 9s 6ms/step - loss: 0.7026 - accuracy: 0.7517 - val_loss: 1.1374 - val_accuracy: 0.6202\n",
            "Epoch 16/50\n",
            "1435/1435 [==============================] - 9s 6ms/step - loss: 0.6795 - accuracy: 0.7623 - val_loss: 1.1369 - val_accuracy: 0.6304\n",
            "Epoch 17/50\n",
            "1435/1435 [==============================] - 9s 6ms/step - loss: 0.6590 - accuracy: 0.7705 - val_loss: 1.0804 - val_accuracy: 0.6514\n"
          ]
        }
      ],
      "source": [
        "# fit model\n",
        "t1 = time.time() # start timer\n",
        "history7 = model7.fit(X_train, Y_train, epochs=50, validation_data=(X_val, Y_val), callbacks=[earlystopping_callback])\n",
        "t2 = time.time() # end timer"
      ]
    },
    {
      "cell_type": "code",
      "execution_count": 78,
      "id": "3a8b25e0-4619-479e-b910-488c88335775",
      "metadata": {
        "colab": {
          "base_uri": "https://localhost:8080/"
        },
        "id": "3a8b25e0-4619-479e-b910-488c88335775",
        "outputId": "658532d6-82ed-4df6-e88f-24625a3b08d7"
      },
      "outputs": [
        {
          "output_type": "stream",
          "name": "stdout",
          "text": [
            "learning runtime: 157 sec\n"
          ]
        }
      ],
      "source": [
        "learning_runtime(t1, t2)"
      ]
    },
    {
      "cell_type": "markdown",
      "id": "05be3011-18e4-4514-9934-e6cfa86405cb",
      "metadata": {
        "id": "05be3011-18e4-4514-9934-e6cfa86405cb"
      },
      "source": [
        "# --------------------------------"
      ]
    },
    {
      "cell_type": "markdown",
      "id": "c65ced04-1773-493a-93e8-c74564b682fb",
      "metadata": {
        "id": "c65ced04-1773-493a-93e8-c74564b682fb"
      },
      "source": [
        "# conclusion of stride number"
      ]
    },
    {
      "cell_type": "code",
      "execution_count": 79,
      "id": "a3c02919-99eb-4bff-9fe1-255db206bd77",
      "metadata": {
        "colab": {
          "base_uri": "https://localhost:8080/",
          "height": 517
        },
        "id": "a3c02919-99eb-4bff-9fe1-255db206bd77",
        "outputId": "e8270928-beae-4acb-d6f3-a335ee95cc16"
      },
      "outputs": [
        {
          "output_type": "display_data",
          "data": {
            "text/html": [
              "<html>\n",
              "<head><meta charset=\"utf-8\" /></head>\n",
              "<body>\n",
              "    <div>            <script src=\"https://cdnjs.cloudflare.com/ajax/libs/mathjax/2.7.5/MathJax.js?config=TeX-AMS-MML_SVG\"></script><script type=\"text/javascript\">if (window.MathJax && window.MathJax.Hub && window.MathJax.Hub.Config) {window.MathJax.Hub.Config({SVG: {font: \"STIX-Web\"}});}</script>                <script type=\"text/javascript\">window.PlotlyConfig = {MathJaxConfig: 'local'};</script>\n",
              "        <script charset=\"utf-8\" src=\"https://cdn.plot.ly/plotly-2.24.1.min.js\"></script>                <div id=\"39055258-6e4a-4a71-81c2-fe7efead6238\" class=\"plotly-graph-div\" style=\"height:500px; width:100%;\"></div>            <script type=\"text/javascript\">                                    window.PLOTLYENV=window.PLOTLYENV || {};                                    if (document.getElementById(\"39055258-6e4a-4a71-81c2-fe7efead6238\")) {                    Plotly.newPlot(                        \"39055258-6e4a-4a71-81c2-fe7efead6238\",                        [{\"hovertemplate\":\"\\u003cextra\\u003e\\u003c\\u002fextra\\u003e\",\"legendgroup\":\"\",\"line\":{\"color\":\"#636efa\",\"dash\":\"solid\"},\"marker\":{\"symbol\":\"circle\"},\"mode\":\"lines\",\"name\":\"\",\"orientation\":\"v\",\"showlegend\":false,\"xaxis\":\"x\",\"yaxis\":\"y\",\"type\":\"scatter\"},{\"name\":\"stride=1-loss\",\"x\":[0,1,2,3,4,5,6,7,8,9,10,11,12,13,14,15,16,17,18,19,20,21,22,23,24,25,26,27,28,29,30,31,32,33,34,35,36,37,38,39,40,41,42,43,44,45,46,47,48,49],\"y\":[1.4097189903259277,1.0750415325164795,0.9432091116905212,0.8727909922599792,0.8081941604614258,0.7674201130867004,0.7273558378219604,0.6566784381866455,0.6520201563835144,0.6430655717849731,0.5579985976219177,0.5307660698890686,0.4739101529121399,0.4452379047870636,0.3987799286842346,0.3885103166103363,0.3504241108894348,0.3219204843044281],\"type\":\"scatter\"},{\"name\":\"stride=1-accuracy\",\"x\":[0,1,2,3,4,5,6,7,8,9,10,11,12,13,14,15,16,17,18,19,20,21,22,23,24,25,26,27,28,29,30,31,32,33,34,35,36,37,38,39,40,41,42,43,44,45,46,47,48,49],\"y\":[0.49795207381248474,0.6196296215057373,0.6693899631500244,0.6922875642776489,0.7169498801231384,0.7296949625015259,0.7451851963996887,0.7706536054611206,0.769694983959198,0.772352933883667,0.8041176199913025,0.8147712349891663,0.8325926065444946,0.8445751667022705,0.8591721057891846,0.8628104329109192,0.8761873841285706,0.886056661605835],\"type\":\"scatter\"},{\"name\":\"stride=2-loss\",\"x\":[0,1,2,3,4,5,6,7,8,9,10,11,12,13,14,15,16,17,18,19,20,21,22,23,24,25,26,27,28,29,30,31,32,33,34,35,36,37,38,39,40,41,42,43,44,45,46,47,48,49],\"y\":[1.5441194772720337,1.2399513721466064,1.1016755104064941,1.022687554359436,0.9527131915092468,0.8928665518760681,0.8467727899551392,0.8017194271087646,0.76632159948349,0.7343827486038208,0.6999347805976868,0.672528088092804,0.6431158781051636,0.6127695441246033,0.5899827480316162,0.5973676443099976,0.5581972599029541,0.5175881385803223,0.5129415392875671,0.47320324182510376,0.45857465267181396],\"type\":\"scatter\"},{\"name\":\"stride=2-accuracy\",\"x\":[0,1,2,3,4,5,6,7,8,9,10,11,12,13,14,15,16,17,18,19,20,21,22,23,24,25,26,27,28,29,30,31,32,33,34,35,36,37,38,39,40,41,42,43,44,45,46,47,48,49],\"y\":[0.44252723455429077,0.5571459531784058,0.611960768699646,0.6405882239341736,0.6649237275123596,0.6858387589454651,0.7051851749420166,0.7189542651176453,0.7316339612007141,0.7412418127059937,0.7547712326049805,0.7638779878616333,0.7744226455688477,0.7837690711021423,0.7942701578140259,0.7919390201568604,0.805533766746521,0.8180174231529236,0.8203921318054199,0.83342045545578,0.836753785610199],\"type\":\"scatter\"},{\"name\":\"stride=4-loss\",\"x\":[0,1,2,3,4,5,6,7,8,9,10,11,12,13,14,15,16,17,18,19,20,21,22,23,24,25,26,27,28,29,30,31,32,33,34,35,36,37,38,39,40,41,42,43,44,45,46,47,48,49],\"y\":[1.5735145807266235,1.3102482557296753,1.1887810230255127,1.1115589141845703,1.054184079170227,0.9935877323150635,0.9536454081535339,0.9109062552452087,0.8831701278686523,0.8486135005950928,0.8131008148193359,0.7805201411247253,0.7560350894927979,0.7272289395332336,0.7026370167732239,0.6794689297676086,0.6589876413345337],\"type\":\"scatter\"},{\"name\":\"stride=4-accuracy\",\"x\":[0,1,2,3,4,5,6,7,8,9,10,11,12,13,14,15,16,17,18,19,20,21,22,23,24,25,26,27,28,29,30,31,32,33,34,35,36,37,38,39,40,41,42,43,44,45,46,47,48,49],\"y\":[0.43030500411987305,0.5268845558166504,0.5767320394515991,0.6086710095405579,0.6266230940818787,0.6493245959281921,0.6656862497329712,0.6788671016693115,0.6894553303718567,0.7001525163650513,0.7149019837379456,0.7243790626525879,0.7334422469139099,0.7442919611930847,0.7516993284225464,0.7622875571250916,0.7704793214797974],\"type\":\"scatter\"}],                        {\"template\":{\"data\":{\"histogram2dcontour\":[{\"type\":\"histogram2dcontour\",\"colorbar\":{\"outlinewidth\":0,\"ticks\":\"\"},\"colorscale\":[[0.0,\"#0d0887\"],[0.1111111111111111,\"#46039f\"],[0.2222222222222222,\"#7201a8\"],[0.3333333333333333,\"#9c179e\"],[0.4444444444444444,\"#bd3786\"],[0.5555555555555556,\"#d8576b\"],[0.6666666666666666,\"#ed7953\"],[0.7777777777777778,\"#fb9f3a\"],[0.8888888888888888,\"#fdca26\"],[1.0,\"#f0f921\"]]}],\"choropleth\":[{\"type\":\"choropleth\",\"colorbar\":{\"outlinewidth\":0,\"ticks\":\"\"}}],\"histogram2d\":[{\"type\":\"histogram2d\",\"colorbar\":{\"outlinewidth\":0,\"ticks\":\"\"},\"colorscale\":[[0.0,\"#0d0887\"],[0.1111111111111111,\"#46039f\"],[0.2222222222222222,\"#7201a8\"],[0.3333333333333333,\"#9c179e\"],[0.4444444444444444,\"#bd3786\"],[0.5555555555555556,\"#d8576b\"],[0.6666666666666666,\"#ed7953\"],[0.7777777777777778,\"#fb9f3a\"],[0.8888888888888888,\"#fdca26\"],[1.0,\"#f0f921\"]]}],\"heatmap\":[{\"type\":\"heatmap\",\"colorbar\":{\"outlinewidth\":0,\"ticks\":\"\"},\"colorscale\":[[0.0,\"#0d0887\"],[0.1111111111111111,\"#46039f\"],[0.2222222222222222,\"#7201a8\"],[0.3333333333333333,\"#9c179e\"],[0.4444444444444444,\"#bd3786\"],[0.5555555555555556,\"#d8576b\"],[0.6666666666666666,\"#ed7953\"],[0.7777777777777778,\"#fb9f3a\"],[0.8888888888888888,\"#fdca26\"],[1.0,\"#f0f921\"]]}],\"heatmapgl\":[{\"type\":\"heatmapgl\",\"colorbar\":{\"outlinewidth\":0,\"ticks\":\"\"},\"colorscale\":[[0.0,\"#0d0887\"],[0.1111111111111111,\"#46039f\"],[0.2222222222222222,\"#7201a8\"],[0.3333333333333333,\"#9c179e\"],[0.4444444444444444,\"#bd3786\"],[0.5555555555555556,\"#d8576b\"],[0.6666666666666666,\"#ed7953\"],[0.7777777777777778,\"#fb9f3a\"],[0.8888888888888888,\"#fdca26\"],[1.0,\"#f0f921\"]]}],\"contourcarpet\":[{\"type\":\"contourcarpet\",\"colorbar\":{\"outlinewidth\":0,\"ticks\":\"\"}}],\"contour\":[{\"type\":\"contour\",\"colorbar\":{\"outlinewidth\":0,\"ticks\":\"\"},\"colorscale\":[[0.0,\"#0d0887\"],[0.1111111111111111,\"#46039f\"],[0.2222222222222222,\"#7201a8\"],[0.3333333333333333,\"#9c179e\"],[0.4444444444444444,\"#bd3786\"],[0.5555555555555556,\"#d8576b\"],[0.6666666666666666,\"#ed7953\"],[0.7777777777777778,\"#fb9f3a\"],[0.8888888888888888,\"#fdca26\"],[1.0,\"#f0f921\"]]}],\"surface\":[{\"type\":\"surface\",\"colorbar\":{\"outlinewidth\":0,\"ticks\":\"\"},\"colorscale\":[[0.0,\"#0d0887\"],[0.1111111111111111,\"#46039f\"],[0.2222222222222222,\"#7201a8\"],[0.3333333333333333,\"#9c179e\"],[0.4444444444444444,\"#bd3786\"],[0.5555555555555556,\"#d8576b\"],[0.6666666666666666,\"#ed7953\"],[0.7777777777777778,\"#fb9f3a\"],[0.8888888888888888,\"#fdca26\"],[1.0,\"#f0f921\"]]}],\"mesh3d\":[{\"type\":\"mesh3d\",\"colorbar\":{\"outlinewidth\":0,\"ticks\":\"\"}}],\"scatter\":[{\"fillpattern\":{\"fillmode\":\"overlay\",\"size\":10,\"solidity\":0.2},\"type\":\"scatter\"}],\"parcoords\":[{\"type\":\"parcoords\",\"line\":{\"colorbar\":{\"outlinewidth\":0,\"ticks\":\"\"}}}],\"scatterpolargl\":[{\"type\":\"scatterpolargl\",\"marker\":{\"colorbar\":{\"outlinewidth\":0,\"ticks\":\"\"}}}],\"bar\":[{\"error_x\":{\"color\":\"#2a3f5f\"},\"error_y\":{\"color\":\"#2a3f5f\"},\"marker\":{\"line\":{\"color\":\"#E5ECF6\",\"width\":0.5},\"pattern\":{\"fillmode\":\"overlay\",\"size\":10,\"solidity\":0.2}},\"type\":\"bar\"}],\"scattergeo\":[{\"type\":\"scattergeo\",\"marker\":{\"colorbar\":{\"outlinewidth\":0,\"ticks\":\"\"}}}],\"scatterpolar\":[{\"type\":\"scatterpolar\",\"marker\":{\"colorbar\":{\"outlinewidth\":0,\"ticks\":\"\"}}}],\"histogram\":[{\"marker\":{\"pattern\":{\"fillmode\":\"overlay\",\"size\":10,\"solidity\":0.2}},\"type\":\"histogram\"}],\"scattergl\":[{\"type\":\"scattergl\",\"marker\":{\"colorbar\":{\"outlinewidth\":0,\"ticks\":\"\"}}}],\"scatter3d\":[{\"type\":\"scatter3d\",\"line\":{\"colorbar\":{\"outlinewidth\":0,\"ticks\":\"\"}},\"marker\":{\"colorbar\":{\"outlinewidth\":0,\"ticks\":\"\"}}}],\"scattermapbox\":[{\"type\":\"scattermapbox\",\"marker\":{\"colorbar\":{\"outlinewidth\":0,\"ticks\":\"\"}}}],\"scatterternary\":[{\"type\":\"scatterternary\",\"marker\":{\"colorbar\":{\"outlinewidth\":0,\"ticks\":\"\"}}}],\"scattercarpet\":[{\"type\":\"scattercarpet\",\"marker\":{\"colorbar\":{\"outlinewidth\":0,\"ticks\":\"\"}}}],\"carpet\":[{\"aaxis\":{\"endlinecolor\":\"#2a3f5f\",\"gridcolor\":\"white\",\"linecolor\":\"white\",\"minorgridcolor\":\"white\",\"startlinecolor\":\"#2a3f5f\"},\"baxis\":{\"endlinecolor\":\"#2a3f5f\",\"gridcolor\":\"white\",\"linecolor\":\"white\",\"minorgridcolor\":\"white\",\"startlinecolor\":\"#2a3f5f\"},\"type\":\"carpet\"}],\"table\":[{\"cells\":{\"fill\":{\"color\":\"#EBF0F8\"},\"line\":{\"color\":\"white\"}},\"header\":{\"fill\":{\"color\":\"#C8D4E3\"},\"line\":{\"color\":\"white\"}},\"type\":\"table\"}],\"barpolar\":[{\"marker\":{\"line\":{\"color\":\"#E5ECF6\",\"width\":0.5},\"pattern\":{\"fillmode\":\"overlay\",\"size\":10,\"solidity\":0.2}},\"type\":\"barpolar\"}],\"pie\":[{\"automargin\":true,\"type\":\"pie\"}]},\"layout\":{\"autotypenumbers\":\"strict\",\"colorway\":[\"#636efa\",\"#EF553B\",\"#00cc96\",\"#ab63fa\",\"#FFA15A\",\"#19d3f3\",\"#FF6692\",\"#B6E880\",\"#FF97FF\",\"#FECB52\"],\"font\":{\"color\":\"#2a3f5f\"},\"hovermode\":\"closest\",\"hoverlabel\":{\"align\":\"left\"},\"paper_bgcolor\":\"white\",\"plot_bgcolor\":\"#E5ECF6\",\"polar\":{\"bgcolor\":\"#E5ECF6\",\"angularaxis\":{\"gridcolor\":\"white\",\"linecolor\":\"white\",\"ticks\":\"\"},\"radialaxis\":{\"gridcolor\":\"white\",\"linecolor\":\"white\",\"ticks\":\"\"}},\"ternary\":{\"bgcolor\":\"#E5ECF6\",\"aaxis\":{\"gridcolor\":\"white\",\"linecolor\":\"white\",\"ticks\":\"\"},\"baxis\":{\"gridcolor\":\"white\",\"linecolor\":\"white\",\"ticks\":\"\"},\"caxis\":{\"gridcolor\":\"white\",\"linecolor\":\"white\",\"ticks\":\"\"}},\"coloraxis\":{\"colorbar\":{\"outlinewidth\":0,\"ticks\":\"\"}},\"colorscale\":{\"sequential\":[[0.0,\"#0d0887\"],[0.1111111111111111,\"#46039f\"],[0.2222222222222222,\"#7201a8\"],[0.3333333333333333,\"#9c179e\"],[0.4444444444444444,\"#bd3786\"],[0.5555555555555556,\"#d8576b\"],[0.6666666666666666,\"#ed7953\"],[0.7777777777777778,\"#fb9f3a\"],[0.8888888888888888,\"#fdca26\"],[1.0,\"#f0f921\"]],\"sequentialminus\":[[0.0,\"#0d0887\"],[0.1111111111111111,\"#46039f\"],[0.2222222222222222,\"#7201a8\"],[0.3333333333333333,\"#9c179e\"],[0.4444444444444444,\"#bd3786\"],[0.5555555555555556,\"#d8576b\"],[0.6666666666666666,\"#ed7953\"],[0.7777777777777778,\"#fb9f3a\"],[0.8888888888888888,\"#fdca26\"],[1.0,\"#f0f921\"]],\"diverging\":[[0,\"#8e0152\"],[0.1,\"#c51b7d\"],[0.2,\"#de77ae\"],[0.3,\"#f1b6da\"],[0.4,\"#fde0ef\"],[0.5,\"#f7f7f7\"],[0.6,\"#e6f5d0\"],[0.7,\"#b8e186\"],[0.8,\"#7fbc41\"],[0.9,\"#4d9221\"],[1,\"#276419\"]]},\"xaxis\":{\"gridcolor\":\"white\",\"linecolor\":\"white\",\"ticks\":\"\",\"title\":{\"standoff\":15},\"zerolinecolor\":\"white\",\"automargin\":true,\"zerolinewidth\":2},\"yaxis\":{\"gridcolor\":\"white\",\"linecolor\":\"white\",\"ticks\":\"\",\"title\":{\"standoff\":15},\"zerolinecolor\":\"white\",\"automargin\":true,\"zerolinewidth\":2},\"scene\":{\"xaxis\":{\"backgroundcolor\":\"#E5ECF6\",\"gridcolor\":\"white\",\"linecolor\":\"white\",\"showbackground\":true,\"ticks\":\"\",\"zerolinecolor\":\"white\",\"gridwidth\":2},\"yaxis\":{\"backgroundcolor\":\"#E5ECF6\",\"gridcolor\":\"white\",\"linecolor\":\"white\",\"showbackground\":true,\"ticks\":\"\",\"zerolinecolor\":\"white\",\"gridwidth\":2},\"zaxis\":{\"backgroundcolor\":\"#E5ECF6\",\"gridcolor\":\"white\",\"linecolor\":\"white\",\"showbackground\":true,\"ticks\":\"\",\"zerolinecolor\":\"white\",\"gridwidth\":2}},\"shapedefaults\":{\"line\":{\"color\":\"#2a3f5f\"}},\"annotationdefaults\":{\"arrowcolor\":\"#2a3f5f\",\"arrowhead\":0,\"arrowwidth\":1},\"geo\":{\"bgcolor\":\"white\",\"landcolor\":\"#E5ECF6\",\"subunitcolor\":\"white\",\"showland\":true,\"showlakes\":true,\"lakecolor\":\"white\"},\"title\":{\"x\":0.05},\"mapbox\":{\"style\":\"light\"}}},\"xaxis\":{\"anchor\":\"y\",\"domain\":[0.0,1.0]},\"yaxis\":{\"anchor\":\"x\",\"domain\":[0.0,1.0]},\"legend\":{\"tracegroupgap\":0},\"title\":{\"text\":\"iteration\\u002fmetrics\"},\"height\":500},                        {\"responsive\": true}                    ).then(function(){\n",
              "                            \n",
              "var gd = document.getElementById('39055258-6e4a-4a71-81c2-fe7efead6238');\n",
              "var x = new MutationObserver(function (mutations, observer) {{\n",
              "        var display = window.getComputedStyle(gd).display;\n",
              "        if (!display || display === 'none') {{\n",
              "            console.log([gd, 'removed!']);\n",
              "            Plotly.purge(gd);\n",
              "            observer.disconnect();\n",
              "        }}\n",
              "}});\n",
              "\n",
              "// Listen for the removal of the full notebook cells\n",
              "var notebookContainer = gd.closest('#notebook-container');\n",
              "if (notebookContainer) {{\n",
              "    x.observe(notebookContainer, {childList: true});\n",
              "}}\n",
              "\n",
              "// Listen for the clearing of the current output cell\n",
              "var outputEl = gd.closest('.output');\n",
              "if (outputEl) {{\n",
              "    x.observe(outputEl, {childList: true});\n",
              "}}\n",
              "\n",
              "                        })                };                            </script>        </div>\n",
              "</body>\n",
              "</html>"
            ]
          },
          "metadata": {}
        }
      ],
      "source": [
        "models = {\n",
        "    'stride=1': [history2],\n",
        "    'stride=2': [history6],\n",
        "    'stride=4': [history7]\n",
        "}\n",
        "\n",
        "x_axis = [i for i in range(50)]\n",
        "fig = px.line(title='iteration/metrics', height=500)\n",
        "for m in models.keys():\n",
        "    fig.add_scatter(x=x_axis, y=models[m][0].history['loss'], name=f'{m}-loss')\n",
        "    fig.add_scatter(x=x_axis, y=models[m][0].history['accuracy'], name=f'{m}-accuracy')\n",
        "fig.show()"
      ]
    },
    {
      "cell_type": "markdown",
      "id": "4d24495f-5158-43bf-b7b2-5c12915a0c69",
      "metadata": {
        "id": "4d24495f-5158-43bf-b7b2-5c12915a0c69"
      },
      "source": [
        "# _______________________________"
      ]
    },
    {
      "cell_type": "markdown",
      "id": "3bb4b185-de30-47b6-900e-6d25b83968eb",
      "metadata": {
        "id": "3bb4b185-de30-47b6-900e-6d25b83968eb"
      },
      "source": [
        "# *** pretrained learning ***"
      ]
    },
    {
      "cell_type": "markdown",
      "id": "7325a348-ad3b-4812-bc51-d428192ff9a6",
      "metadata": {
        "id": "7325a348-ad3b-4812-bc51-d428192ff9a6"
      },
      "source": [
        "# normalization"
      ]
    },
    {
      "cell_type": "code",
      "execution_count": 80,
      "id": "7fa5744e-09f3-4f08-975e-c92855a61827",
      "metadata": {
        "id": "7fa5744e-09f3-4f08-975e-c92855a61827"
      },
      "outputs": [],
      "source": [
        "# MinMaxScaler works better on images color\n",
        "scaler = MinMaxScaler()\n",
        "X_train_s = scaler.fit_transform(X_train.reshape(-1, X_train.shape[-1])).reshape(X_train.shape)\n",
        "X_val_s = scaler.transform(X_val.reshape(-1, X_val.shape[-1])).reshape(X_val.shape)\n",
        "X_test_s = scaler.transform(X_test.reshape(-1, X_test.shape[-1])).reshape(X_test.shape)"
      ]
    },
    {
      "cell_type": "markdown",
      "id": "8c5e954b-c5f3-4a5d-8611-8e694f48b48d",
      "metadata": {
        "scrolled": true,
        "id": "8c5e954b-c5f3-4a5d-8611-8e694f48b48d"
      },
      "source": [
        "# xception model"
      ]
    },
    {
      "cell_type": "code",
      "execution_count": 81,
      "id": "15881c2d-1acd-4bd2-a8b1-0feeb8b016e0",
      "metadata": {
        "colab": {
          "base_uri": "https://localhost:8080/"
        },
        "id": "15881c2d-1acd-4bd2-a8b1-0feeb8b016e0",
        "outputId": "1648f02e-b8fc-4830-c27d-07e2ac86943a"
      },
      "outputs": [
        {
          "output_type": "stream",
          "name": "stdout",
          "text": [
            "Downloading data from https://storage.googleapis.com/tensorflow/keras-applications/xception/xception_weights_tf_dim_ordering_tf_kernels_notop.h5\n",
            "83683744/83683744 [==============================] - 5s 0us/step\n"
          ]
        }
      ],
      "source": [
        "# load base of xception model\n",
        "xception_base = keras.applications.Xception(include_top=False)"
      ]
    },
    {
      "cell_type": "code",
      "execution_count": 82,
      "id": "6fdfe7d2-48ce-4bdb-87ed-5bc58e94cc5d",
      "metadata": {
        "id": "6fdfe7d2-48ce-4bdb-87ed-5bc58e94cc5d"
      },
      "outputs": [],
      "source": [
        "# create costum global average & output layer\n",
        "ga_layer = keras.layers.GlobalAveragePooling2D(name='custom_galobal_average')(xception_base.output)\n",
        "output_layer = keras.layers.Dense(10, activation='softmax', name='custom_output')(ga_layer)"
      ]
    },
    {
      "cell_type": "markdown",
      "id": "b9ed0e90-ff58-4238-99c9-a063be373118",
      "metadata": {
        "id": "b9ed0e90-ff58-4238-99c9-a063be373118"
      },
      "source": [
        "# 1 trainable layer"
      ]
    },
    {
      "cell_type": "code",
      "execution_count": 83,
      "id": "f52add81-4380-4fe0-8734-6395d222d30f",
      "metadata": {
        "id": "f52add81-4380-4fe0-8734-6395d222d30f"
      },
      "outputs": [],
      "source": [
        "# pretrained xception model\n",
        "px_model_1 = keras.Model(inputs=xception_base.input, outputs=output_layer)"
      ]
    },
    {
      "cell_type": "code",
      "execution_count": 84,
      "id": "10b8c4ac-4fa8-4443-928a-4ca37ec8f603",
      "metadata": {
        "id": "10b8c4ac-4fa8-4443-928a-4ca37ec8f603"
      },
      "outputs": [],
      "source": [
        "# freeze layers\n",
        "for layer in px_model_1.layers[:-2]:\n",
        "    layer.trainable = False"
      ]
    },
    {
      "cell_type": "code",
      "execution_count": 85,
      "id": "5f2f92e4-0ca2-4789-bec4-fb0d6314150b",
      "metadata": {
        "id": "5f2f92e4-0ca2-4789-bec4-fb0d6314150b"
      },
      "outputs": [],
      "source": [
        "# compile model\n",
        "px_model_1.compile(loss='sparse_categorical_crossentropy', metrics=['accuracy'], optimizer=keras.optimizers.Adam())"
      ]
    },
    {
      "cell_type": "code",
      "execution_count": 86,
      "id": "d7aba8b2-2ddd-4d1a-9f88-3c4900ee308c",
      "metadata": {
        "colab": {
          "base_uri": "https://localhost:8080/"
        },
        "id": "d7aba8b2-2ddd-4d1a-9f88-3c4900ee308c",
        "outputId": "395e86eb-a0ba-4498-f36c-577248d1bfd8"
      },
      "outputs": [
        {
          "output_type": "stream",
          "name": "stdout",
          "text": [
            "Epoch 1/50\n",
            "1435/1435 [==============================] - 23s 13ms/step - loss: 2.0739 - accuracy: 0.3416 - val_loss: 1.9543 - val_accuracy: 0.3771\n",
            "Epoch 2/50\n",
            "1435/1435 [==============================] - 14s 10ms/step - loss: 1.9100 - accuracy: 0.3829 - val_loss: 1.8654 - val_accuracy: 0.3978\n",
            "Epoch 3/50\n",
            "1435/1435 [==============================] - 15s 11ms/step - loss: 1.8425 - accuracy: 0.3994 - val_loss: 1.8165 - val_accuracy: 0.4078\n",
            "Epoch 4/50\n",
            "1435/1435 [==============================] - 14s 10ms/step - loss: 1.7987 - accuracy: 0.4102 - val_loss: 1.7868 - val_accuracy: 0.4169\n",
            "Epoch 5/50\n",
            "1435/1435 [==============================] - 14s 10ms/step - loss: 1.7660 - accuracy: 0.4217 - val_loss: 1.7622 - val_accuracy: 0.4251\n",
            "Epoch 6/50\n",
            "1435/1435 [==============================] - 14s 10ms/step - loss: 1.7408 - accuracy: 0.4283 - val_loss: 1.7438 - val_accuracy: 0.4337\n",
            "Epoch 7/50\n",
            "1435/1435 [==============================] - 14s 10ms/step - loss: 1.7194 - accuracy: 0.4344 - val_loss: 1.7288 - val_accuracy: 0.4410\n",
            "Epoch 8/50\n",
            "1435/1435 [==============================] - 14s 10ms/step - loss: 1.7012 - accuracy: 0.4388 - val_loss: 1.7176 - val_accuracy: 0.4392\n",
            "Epoch 9/50\n",
            "1435/1435 [==============================] - 14s 10ms/step - loss: 1.6855 - accuracy: 0.4437 - val_loss: 1.7053 - val_accuracy: 0.4425\n",
            "Epoch 10/50\n",
            "1435/1435 [==============================] - 14s 10ms/step - loss: 1.6716 - accuracy: 0.4478 - val_loss: 1.6981 - val_accuracy: 0.4431\n",
            "Epoch 11/50\n",
            "1435/1435 [==============================] - 14s 10ms/step - loss: 1.6595 - accuracy: 0.4493 - val_loss: 1.6890 - val_accuracy: 0.4429\n",
            "Epoch 12/50\n",
            "1435/1435 [==============================] - 14s 10ms/step - loss: 1.6482 - accuracy: 0.4532 - val_loss: 1.6840 - val_accuracy: 0.4471\n",
            "Epoch 13/50\n",
            "1435/1435 [==============================] - 14s 10ms/step - loss: 1.6376 - accuracy: 0.4569 - val_loss: 1.6761 - val_accuracy: 0.4451\n",
            "Epoch 14/50\n",
            "1435/1435 [==============================] - 14s 10ms/step - loss: 1.6284 - accuracy: 0.4588 - val_loss: 1.6756 - val_accuracy: 0.4449\n",
            "Epoch 15/50\n",
            "1435/1435 [==============================] - 16s 11ms/step - loss: 1.6195 - accuracy: 0.4607 - val_loss: 1.6685 - val_accuracy: 0.4496\n",
            "Epoch 16/50\n",
            "1435/1435 [==============================] - 14s 10ms/step - loss: 1.6118 - accuracy: 0.4652 - val_loss: 1.6656 - val_accuracy: 0.4443\n",
            "Epoch 17/50\n",
            "1435/1435 [==============================] - 14s 10ms/step - loss: 1.6043 - accuracy: 0.4647 - val_loss: 1.6629 - val_accuracy: 0.4459\n",
            "Epoch 18/50\n",
            "1435/1435 [==============================] - 14s 10ms/step - loss: 1.5971 - accuracy: 0.4666 - val_loss: 1.6599 - val_accuracy: 0.4484\n",
            "Epoch 19/50\n",
            "1435/1435 [==============================] - 14s 10ms/step - loss: 1.5908 - accuracy: 0.4697 - val_loss: 1.6549 - val_accuracy: 0.4492\n",
            "Epoch 20/50\n",
            "1435/1435 [==============================] - 14s 10ms/step - loss: 1.5844 - accuracy: 0.4714 - val_loss: 1.6527 - val_accuracy: 0.4496\n",
            "Epoch 21/50\n",
            "1435/1435 [==============================] - 14s 10ms/step - loss: 1.5786 - accuracy: 0.4722 - val_loss: 1.6526 - val_accuracy: 0.4475\n",
            "Epoch 22/50\n",
            "1435/1435 [==============================] - 14s 10ms/step - loss: 1.5731 - accuracy: 0.4730 - val_loss: 1.6485 - val_accuracy: 0.4480\n",
            "Epoch 23/50\n",
            "1435/1435 [==============================] - 14s 10ms/step - loss: 1.5680 - accuracy: 0.4747 - val_loss: 1.6501 - val_accuracy: 0.4484\n",
            "Epoch 24/50\n",
            "1435/1435 [==============================] - 14s 10ms/step - loss: 1.5627 - accuracy: 0.4755 - val_loss: 1.6450 - val_accuracy: 0.4465\n",
            "Epoch 25/50\n",
            "1435/1435 [==============================] - 14s 10ms/step - loss: 1.5581 - accuracy: 0.4775 - val_loss: 1.6431 - val_accuracy: 0.4486\n",
            "Epoch 26/50\n",
            "1435/1435 [==============================] - 14s 10ms/step - loss: 1.5535 - accuracy: 0.4778 - val_loss: 1.6437 - val_accuracy: 0.4478\n",
            "Epoch 27/50\n",
            "1435/1435 [==============================] - 14s 10ms/step - loss: 1.5493 - accuracy: 0.4795 - val_loss: 1.6426 - val_accuracy: 0.4492\n",
            "Epoch 28/50\n",
            "1435/1435 [==============================] - 14s 10ms/step - loss: 1.5451 - accuracy: 0.4804 - val_loss: 1.6405 - val_accuracy: 0.4496\n",
            "Epoch 29/50\n",
            "1435/1435 [==============================] - 14s 10ms/step - loss: 1.5410 - accuracy: 0.4816 - val_loss: 1.6380 - val_accuracy: 0.4482\n",
            "Epoch 30/50\n",
            "1435/1435 [==============================] - 14s 10ms/step - loss: 1.5374 - accuracy: 0.4832 - val_loss: 1.6361 - val_accuracy: 0.4494\n",
            "Epoch 31/50\n",
            "1435/1435 [==============================] - 14s 10ms/step - loss: 1.5333 - accuracy: 0.4831 - val_loss: 1.6384 - val_accuracy: 0.4500\n",
            "Epoch 32/50\n",
            "1435/1435 [==============================] - 14s 10ms/step - loss: 1.5303 - accuracy: 0.4847 - val_loss: 1.6368 - val_accuracy: 0.4463\n",
            "Epoch 33/50\n",
            "1435/1435 [==============================] - 14s 10ms/step - loss: 1.5262 - accuracy: 0.4856 - val_loss: 1.6353 - val_accuracy: 0.4496\n",
            "Epoch 34/50\n",
            "1435/1435 [==============================] - 14s 10ms/step - loss: 1.5231 - accuracy: 0.4858 - val_loss: 1.6377 - val_accuracy: 0.4473\n",
            "Epoch 35/50\n",
            "1435/1435 [==============================] - 14s 10ms/step - loss: 1.5204 - accuracy: 0.4877 - val_loss: 1.6354 - val_accuracy: 0.4480\n",
            "Epoch 36/50\n",
            "1435/1435 [==============================] - 14s 10ms/step - loss: 1.5174 - accuracy: 0.4884 - val_loss: 1.6343 - val_accuracy: 0.4484\n",
            "Epoch 37/50\n",
            "1435/1435 [==============================] - 14s 10ms/step - loss: 1.5140 - accuracy: 0.4893 - val_loss: 1.6343 - val_accuracy: 0.4508\n",
            "Epoch 38/50\n",
            "1435/1435 [==============================] - 14s 10ms/step - loss: 1.5111 - accuracy: 0.4904 - val_loss: 1.6350 - val_accuracy: 0.4492\n",
            "Epoch 39/50\n",
            "1435/1435 [==============================] - 14s 10ms/step - loss: 1.5082 - accuracy: 0.4912 - val_loss: 1.6332 - val_accuracy: 0.4504\n",
            "Epoch 40/50\n",
            "1435/1435 [==============================] - 14s 10ms/step - loss: 1.5056 - accuracy: 0.4923 - val_loss: 1.6321 - val_accuracy: 0.4506\n",
            "Epoch 41/50\n",
            "1435/1435 [==============================] - 14s 10ms/step - loss: 1.5027 - accuracy: 0.4924 - val_loss: 1.6347 - val_accuracy: 0.4488\n",
            "Epoch 42/50\n",
            "1435/1435 [==============================] - 14s 10ms/step - loss: 1.5006 - accuracy: 0.4936 - val_loss: 1.6320 - val_accuracy: 0.4486\n",
            "Epoch 43/50\n",
            "1435/1435 [==============================] - 14s 10ms/step - loss: 1.4982 - accuracy: 0.4922 - val_loss: 1.6367 - val_accuracy: 0.4518\n",
            "Epoch 44/50\n",
            "1435/1435 [==============================] - 14s 10ms/step - loss: 1.4958 - accuracy: 0.4939 - val_loss: 1.6351 - val_accuracy: 0.4506\n",
            "Epoch 45/50\n",
            "1435/1435 [==============================] - 14s 10ms/step - loss: 1.4932 - accuracy: 0.4950 - val_loss: 1.6325 - val_accuracy: 0.4522\n",
            "Epoch 46/50\n",
            "1435/1435 [==============================] - 14s 10ms/step - loss: 1.4910 - accuracy: 0.4958 - val_loss: 1.6322 - val_accuracy: 0.4516\n",
            "Epoch 47/50\n",
            "1435/1435 [==============================] - 14s 10ms/step - loss: 1.4889 - accuracy: 0.4965 - val_loss: 1.6364 - val_accuracy: 0.4443\n",
            "Epoch 48/50\n",
            "1435/1435 [==============================] - 14s 10ms/step - loss: 1.4868 - accuracy: 0.4974 - val_loss: 1.6330 - val_accuracy: 0.4480\n",
            "Epoch 49/50\n",
            "1435/1435 [==============================] - 14s 10ms/step - loss: 1.4844 - accuracy: 0.4970 - val_loss: 1.6344 - val_accuracy: 0.4506\n",
            "Epoch 50/50\n",
            "1435/1435 [==============================] - 14s 10ms/step - loss: 1.4824 - accuracy: 0.4984 - val_loss: 1.6359 - val_accuracy: 0.4492\n"
          ]
        }
      ],
      "source": [
        "# fit model\n",
        "t1 = time.time() # start timer\n",
        "px_model_1_history = px_model_1.fit(X_train_s, Y_train, epochs=50, validation_data=(X_val_s, Y_val), callbacks=[earlystopping_callback])\n",
        "t2 = time.time() # end timer"
      ]
    },
    {
      "cell_type": "code",
      "execution_count": 87,
      "id": "5da01264-b9ea-43b7-b74e-c62bc99d21d6",
      "metadata": {
        "colab": {
          "base_uri": "https://localhost:8080/"
        },
        "id": "5da01264-b9ea-43b7-b74e-c62bc99d21d6",
        "outputId": "782233e3-e74e-4ee0-ab6a-ea3c20a65d78"
      },
      "outputs": [
        {
          "output_type": "stream",
          "name": "stdout",
          "text": [
            "learning runtime: 711 sec\n"
          ]
        }
      ],
      "source": [
        "learning_runtime(t1, t2)"
      ]
    },
    {
      "cell_type": "markdown",
      "id": "58e32008-901c-491a-8fdf-7218aed1b0ae",
      "metadata": {
        "id": "58e32008-901c-491a-8fdf-7218aed1b0ae"
      },
      "source": [
        "# 2 trainable layer"
      ]
    },
    {
      "cell_type": "code",
      "source": [
        "# load base of xception model\n",
        "xception_base = keras.applications.Xception(include_top=False)"
      ],
      "metadata": {
        "id": "iP9yGfATLT_v"
      },
      "id": "iP9yGfATLT_v",
      "execution_count": 92,
      "outputs": []
    },
    {
      "cell_type": "code",
      "source": [
        "# create costum global average & output layer\n",
        "ga_layer = keras.layers.GlobalAveragePooling2D(name='custom_galobal_average')(xception_base.output)\n",
        "output_layer = keras.layers.Dense(10, activation='softmax', name='custom_output')(ga_layer)"
      ],
      "metadata": {
        "id": "Ez2rBuJLLTz6"
      },
      "id": "Ez2rBuJLLTz6",
      "execution_count": 93,
      "outputs": []
    },
    {
      "cell_type": "code",
      "execution_count": 94,
      "id": "2da472c1-0942-42d9-994d-01b29f0142ab",
      "metadata": {
        "id": "2da472c1-0942-42d9-994d-01b29f0142ab"
      },
      "outputs": [],
      "source": [
        "# pretrained xception model\n",
        "px_model_2 = keras.Model(inputs=xception_base.input, outputs=output_layer)"
      ]
    },
    {
      "cell_type": "code",
      "execution_count": 95,
      "id": "2d778ed4-638b-4209-8b1d-3abffe68495d",
      "metadata": {
        "id": "2d778ed4-638b-4209-8b1d-3abffe68495d"
      },
      "outputs": [],
      "source": [
        "# freeze layers\n",
        "for layer in px_model_2.layers[:-9]:\n",
        "    layer.trainable = False"
      ]
    },
    {
      "cell_type": "code",
      "execution_count": 96,
      "id": "e3359628-16ac-4cab-bff5-4bd42b605e1c",
      "metadata": {
        "id": "e3359628-16ac-4cab-bff5-4bd42b605e1c"
      },
      "outputs": [],
      "source": [
        "# compile model\n",
        "px_model_2.compile(loss='sparse_categorical_crossentropy', metrics=['accuracy'], optimizer=keras.optimizers.Adam())"
      ]
    },
    {
      "cell_type": "code",
      "execution_count": 97,
      "id": "1f097f51-d1a5-4fae-97d0-30c8061cf954",
      "metadata": {
        "colab": {
          "base_uri": "https://localhost:8080/"
        },
        "id": "1f097f51-d1a5-4fae-97d0-30c8061cf954",
        "outputId": "d2f27a59-98a7-4981-85cb-838fc956d5dc"
      },
      "outputs": [
        {
          "output_type": "stream",
          "name": "stdout",
          "text": [
            "Epoch 1/50\n",
            "1435/1435 [==============================] - 29s 17ms/step - loss: 1.3235 - accuracy: 0.5409 - val_loss: 1.1377 - val_accuracy: 0.6018\n",
            "Epoch 2/50\n",
            "1435/1435 [==============================] - 19s 13ms/step - loss: 1.0723 - accuracy: 0.6246 - val_loss: 1.0589 - val_accuracy: 0.6355\n",
            "Epoch 3/50\n",
            "1435/1435 [==============================] - 19s 13ms/step - loss: 0.9430 - accuracy: 0.6680 - val_loss: 1.0510 - val_accuracy: 0.6327\n",
            "Epoch 4/50\n",
            "1435/1435 [==============================] - 19s 13ms/step - loss: 0.8347 - accuracy: 0.7037 - val_loss: 1.0382 - val_accuracy: 0.6533\n",
            "Epoch 5/50\n",
            "1435/1435 [==============================] - 20s 14ms/step - loss: 0.7168 - accuracy: 0.7427 - val_loss: 1.0659 - val_accuracy: 0.6573\n",
            "Epoch 6/50\n",
            "1435/1435 [==============================] - 20s 14ms/step - loss: 0.6097 - accuracy: 0.7792 - val_loss: 1.1372 - val_accuracy: 0.6506\n",
            "Epoch 7/50\n",
            "1435/1435 [==============================] - 19s 14ms/step - loss: 0.5029 - accuracy: 0.8189 - val_loss: 1.2068 - val_accuracy: 0.6447\n",
            "Epoch 8/50\n",
            "1435/1435 [==============================] - 20s 14ms/step - loss: 0.4126 - accuracy: 0.8527 - val_loss: 1.3299 - val_accuracy: 0.6390\n",
            "Epoch 9/50\n",
            "1435/1435 [==============================] - 19s 13ms/step - loss: 0.3418 - accuracy: 0.8778 - val_loss: 1.4147 - val_accuracy: 0.6378\n",
            "Epoch 10/50\n",
            "1435/1435 [==============================] - 19s 13ms/step - loss: 0.2881 - accuracy: 0.8980 - val_loss: 1.5024 - val_accuracy: 0.6345\n",
            "Epoch 11/50\n",
            "1435/1435 [==============================] - 19s 13ms/step - loss: 0.2464 - accuracy: 0.9141 - val_loss: 1.5971 - val_accuracy: 0.6433\n",
            "Epoch 12/50\n",
            "1435/1435 [==============================] - 19s 13ms/step - loss: 0.2159 - accuracy: 0.9237 - val_loss: 1.6237 - val_accuracy: 0.6369\n",
            "Epoch 13/50\n",
            "1435/1435 [==============================] - 19s 13ms/step - loss: 0.1960 - accuracy: 0.9321 - val_loss: 1.7502 - val_accuracy: 0.6276\n",
            "Epoch 14/50\n",
            "1435/1435 [==============================] - 19s 13ms/step - loss: 0.1794 - accuracy: 0.9374 - val_loss: 1.8208 - val_accuracy: 0.6339\n"
          ]
        }
      ],
      "source": [
        "# fit model\n",
        "t1 = time.time() # start timer\n",
        "px_model_2_history = px_model_2.fit(X_train_s, Y_train, epochs=50, validation_data=(X_val_s, Y_val), callbacks=[earlystopping_callback])\n",
        "t2 = time.time() # end timer"
      ]
    },
    {
      "cell_type": "code",
      "execution_count": null,
      "id": "b3a6b655-2015-4c83-a0a6-e76aa2d6cf35",
      "metadata": {
        "id": "b3a6b655-2015-4c83-a0a6-e76aa2d6cf35"
      },
      "outputs": [],
      "source": [
        "learning_runtime(t1, t2)"
      ]
    },
    {
      "cell_type": "markdown",
      "id": "aae06763-cbf1-478a-ba25-ba1bb752918c",
      "metadata": {
        "id": "aae06763-cbf1-478a-ba25-ba1bb752918c"
      },
      "source": [
        "# --------------------------------"
      ]
    },
    {
      "cell_type": "markdown",
      "id": "1c6972c3-b9e7-4cc6-8381-bc85aeaf5fcb",
      "metadata": {
        "id": "1c6972c3-b9e7-4cc6-8381-bc85aeaf5fcb"
      },
      "source": [
        "# conclusion of trainable layer"
      ]
    },
    {
      "cell_type": "code",
      "execution_count": 98,
      "id": "50e0d01e-c99e-43c5-a5f1-354b92f8224b",
      "metadata": {
        "colab": {
          "base_uri": "https://localhost:8080/",
          "height": 517
        },
        "id": "50e0d01e-c99e-43c5-a5f1-354b92f8224b",
        "outputId": "8fec667a-4bb6-4012-b762-731339aa7093"
      },
      "outputs": [
        {
          "output_type": "display_data",
          "data": {
            "text/html": [
              "<html>\n",
              "<head><meta charset=\"utf-8\" /></head>\n",
              "<body>\n",
              "    <div>            <script src=\"https://cdnjs.cloudflare.com/ajax/libs/mathjax/2.7.5/MathJax.js?config=TeX-AMS-MML_SVG\"></script><script type=\"text/javascript\">if (window.MathJax && window.MathJax.Hub && window.MathJax.Hub.Config) {window.MathJax.Hub.Config({SVG: {font: \"STIX-Web\"}});}</script>                <script type=\"text/javascript\">window.PlotlyConfig = {MathJaxConfig: 'local'};</script>\n",
              "        <script charset=\"utf-8\" src=\"https://cdn.plot.ly/plotly-2.24.1.min.js\"></script>                <div id=\"44cae5b6-557b-476a-95a3-edb24744d3b2\" class=\"plotly-graph-div\" style=\"height:500px; width:100%;\"></div>            <script type=\"text/javascript\">                                    window.PLOTLYENV=window.PLOTLYENV || {};                                    if (document.getElementById(\"44cae5b6-557b-476a-95a3-edb24744d3b2\")) {                    Plotly.newPlot(                        \"44cae5b6-557b-476a-95a3-edb24744d3b2\",                        [{\"hovertemplate\":\"\\u003cextra\\u003e\\u003c\\u002fextra\\u003e\",\"legendgroup\":\"\",\"line\":{\"color\":\"#636efa\",\"dash\":\"solid\"},\"marker\":{\"symbol\":\"circle\"},\"mode\":\"lines\",\"name\":\"\",\"orientation\":\"v\",\"showlegend\":false,\"xaxis\":\"x\",\"yaxis\":\"y\",\"type\":\"scatter\"},{\"name\":\"1_trainable_layer-loss\",\"x\":[0,1,2,3,4,5,6,7,8,9,10,11,12,13,14,15,16,17,18,19,20,21,22,23,24,25,26,27,28,29,30,31,32,33,34,35,36,37,38,39,40,41,42,43,44,45,46,47,48,49],\"y\":[2.0738658905029297,1.9100372791290283,1.8425416946411133,1.7987161874771118,1.7660256624221802,1.7407901287078857,1.7194199562072754,1.7012128829956055,1.6855217218399048,1.6715904474258423,1.6595081090927124,1.6482454538345337,1.6375850439071655,1.6284133195877075,1.619492769241333,1.6117571592330933,1.6042730808258057,1.5971087217330933,1.5908148288726807,1.584413766860962,1.5786433219909668,1.5731385946273804,1.5680358409881592,1.5626554489135742,1.558104395866394,1.5534663200378418,1.5492607355117798,1.5450786352157593,1.5410434007644653,1.5373750925064087,1.5333384275436401,1.530293583869934,1.5262444019317627,1.523133397102356,1.5203512907028198,1.517441987991333,1.5140314102172852,1.51114821434021,1.5081610679626465,1.5056052207946777,1.5027480125427246,1.5005704164505005,1.4981621503829956,1.495753288269043,1.4932020902633667,1.491020679473877,1.488853096961975,1.4868075847625732,1.4843801259994507,1.4823997020721436],\"type\":\"scatter\"},{\"name\":\"1_trainable_layer-accuracy\",\"x\":[0,1,2,3,4,5,6,7,8,9,10,11,12,13,14,15,16,17,18,19,20,21,22,23,24,25,26,27,28,29,30,31,32,33,34,35,36,37,38,39,40,41,42,43,44,45,46,47,48,49],\"y\":[0.34159040451049805,0.38287582993507385,0.39941176772117615,0.41017428040504456,0.4216557741165161,0.4283442199230194,0.43442267179489136,0.43877995014190674,0.443681925535202,0.44782134890556335,0.4493463933467865,0.45315903425216675,0.45686274766921997,0.4587799608707428,0.46071895956993103,0.46520698070526123,0.4646623134613037,0.46664488315582275,0.46973857283592224,0.471350759267807,0.4722004234790802,0.47300654649734497,0.47466230392456055,0.47551196813583374,0.477538138628006,0.47782135009765625,0.4794771373271942,0.4803921580314636,0.4816122055053711,0.48320260643959045,0.48313724994659424,0.4847058951854706,0.4856427013874054,0.4857516288757324,0.48773419857025146,0.4884095788002014,0.4893028438091278,0.49039214849472046,0.49119827151298523,0.4923093616962433,0.4924182891845703,0.4936165511608124,0.49215686321258545,0.49387800693511963,0.4949890971183777,0.49581700563430786,0.4965141713619232,0.4974291920661926,0.49703702330589294,0.49843138456344604],\"type\":\"scatter\"},{\"name\":\"2_trainable_layer-loss\",\"x\":[0,1,2,3,4,5,6,7,8,9,10,11,12,13,14,15,16,17,18,19,20,21,22,23,24,25,26,27,28,29,30,31,32,33,34,35,36,37,38,39,40,41,42,43,44,45,46,47,48,49],\"y\":[1.3234922885894775,1.0723156929016113,0.9430205225944519,0.8347099423408508,0.7167834043502808,0.6096834540367126,0.5029301047325134,0.41259336471557617,0.34175729751586914,0.2880762219429016,0.24640358984470367,0.2159486711025238,0.1960267275571823,0.1794406622648239],\"type\":\"scatter\"},{\"name\":\"2_trainable_layer-accuracy\",\"x\":[0,1,2,3,4,5,6,7,8,9,10,11,12,13,14,15,16,17,18,19,20,21,22,23,24,25,26,27,28,29,30,31,32,33,34,35,36,37,38,39,40,41,42,43,44,45,46,47,48,49],\"y\":[0.5409368276596069,0.6245969533920288,0.6679738759994507,0.7036601305007935,0.7426579594612122,0.7792156934738159,0.8188670873641968,0.8527015447616577,0.8777777552604675,0.89799565076828,0.9140740633010864,0.9237037301063538,0.932091474533081,0.937363862991333],\"type\":\"scatter\"}],                        {\"template\":{\"data\":{\"histogram2dcontour\":[{\"type\":\"histogram2dcontour\",\"colorbar\":{\"outlinewidth\":0,\"ticks\":\"\"},\"colorscale\":[[0.0,\"#0d0887\"],[0.1111111111111111,\"#46039f\"],[0.2222222222222222,\"#7201a8\"],[0.3333333333333333,\"#9c179e\"],[0.4444444444444444,\"#bd3786\"],[0.5555555555555556,\"#d8576b\"],[0.6666666666666666,\"#ed7953\"],[0.7777777777777778,\"#fb9f3a\"],[0.8888888888888888,\"#fdca26\"],[1.0,\"#f0f921\"]]}],\"choropleth\":[{\"type\":\"choropleth\",\"colorbar\":{\"outlinewidth\":0,\"ticks\":\"\"}}],\"histogram2d\":[{\"type\":\"histogram2d\",\"colorbar\":{\"outlinewidth\":0,\"ticks\":\"\"},\"colorscale\":[[0.0,\"#0d0887\"],[0.1111111111111111,\"#46039f\"],[0.2222222222222222,\"#7201a8\"],[0.3333333333333333,\"#9c179e\"],[0.4444444444444444,\"#bd3786\"],[0.5555555555555556,\"#d8576b\"],[0.6666666666666666,\"#ed7953\"],[0.7777777777777778,\"#fb9f3a\"],[0.8888888888888888,\"#fdca26\"],[1.0,\"#f0f921\"]]}],\"heatmap\":[{\"type\":\"heatmap\",\"colorbar\":{\"outlinewidth\":0,\"ticks\":\"\"},\"colorscale\":[[0.0,\"#0d0887\"],[0.1111111111111111,\"#46039f\"],[0.2222222222222222,\"#7201a8\"],[0.3333333333333333,\"#9c179e\"],[0.4444444444444444,\"#bd3786\"],[0.5555555555555556,\"#d8576b\"],[0.6666666666666666,\"#ed7953\"],[0.7777777777777778,\"#fb9f3a\"],[0.8888888888888888,\"#fdca26\"],[1.0,\"#f0f921\"]]}],\"heatmapgl\":[{\"type\":\"heatmapgl\",\"colorbar\":{\"outlinewidth\":0,\"ticks\":\"\"},\"colorscale\":[[0.0,\"#0d0887\"],[0.1111111111111111,\"#46039f\"],[0.2222222222222222,\"#7201a8\"],[0.3333333333333333,\"#9c179e\"],[0.4444444444444444,\"#bd3786\"],[0.5555555555555556,\"#d8576b\"],[0.6666666666666666,\"#ed7953\"],[0.7777777777777778,\"#fb9f3a\"],[0.8888888888888888,\"#fdca26\"],[1.0,\"#f0f921\"]]}],\"contourcarpet\":[{\"type\":\"contourcarpet\",\"colorbar\":{\"outlinewidth\":0,\"ticks\":\"\"}}],\"contour\":[{\"type\":\"contour\",\"colorbar\":{\"outlinewidth\":0,\"ticks\":\"\"},\"colorscale\":[[0.0,\"#0d0887\"],[0.1111111111111111,\"#46039f\"],[0.2222222222222222,\"#7201a8\"],[0.3333333333333333,\"#9c179e\"],[0.4444444444444444,\"#bd3786\"],[0.5555555555555556,\"#d8576b\"],[0.6666666666666666,\"#ed7953\"],[0.7777777777777778,\"#fb9f3a\"],[0.8888888888888888,\"#fdca26\"],[1.0,\"#f0f921\"]]}],\"surface\":[{\"type\":\"surface\",\"colorbar\":{\"outlinewidth\":0,\"ticks\":\"\"},\"colorscale\":[[0.0,\"#0d0887\"],[0.1111111111111111,\"#46039f\"],[0.2222222222222222,\"#7201a8\"],[0.3333333333333333,\"#9c179e\"],[0.4444444444444444,\"#bd3786\"],[0.5555555555555556,\"#d8576b\"],[0.6666666666666666,\"#ed7953\"],[0.7777777777777778,\"#fb9f3a\"],[0.8888888888888888,\"#fdca26\"],[1.0,\"#f0f921\"]]}],\"mesh3d\":[{\"type\":\"mesh3d\",\"colorbar\":{\"outlinewidth\":0,\"ticks\":\"\"}}],\"scatter\":[{\"fillpattern\":{\"fillmode\":\"overlay\",\"size\":10,\"solidity\":0.2},\"type\":\"scatter\"}],\"parcoords\":[{\"type\":\"parcoords\",\"line\":{\"colorbar\":{\"outlinewidth\":0,\"ticks\":\"\"}}}],\"scatterpolargl\":[{\"type\":\"scatterpolargl\",\"marker\":{\"colorbar\":{\"outlinewidth\":0,\"ticks\":\"\"}}}],\"bar\":[{\"error_x\":{\"color\":\"#2a3f5f\"},\"error_y\":{\"color\":\"#2a3f5f\"},\"marker\":{\"line\":{\"color\":\"#E5ECF6\",\"width\":0.5},\"pattern\":{\"fillmode\":\"overlay\",\"size\":10,\"solidity\":0.2}},\"type\":\"bar\"}],\"scattergeo\":[{\"type\":\"scattergeo\",\"marker\":{\"colorbar\":{\"outlinewidth\":0,\"ticks\":\"\"}}}],\"scatterpolar\":[{\"type\":\"scatterpolar\",\"marker\":{\"colorbar\":{\"outlinewidth\":0,\"ticks\":\"\"}}}],\"histogram\":[{\"marker\":{\"pattern\":{\"fillmode\":\"overlay\",\"size\":10,\"solidity\":0.2}},\"type\":\"histogram\"}],\"scattergl\":[{\"type\":\"scattergl\",\"marker\":{\"colorbar\":{\"outlinewidth\":0,\"ticks\":\"\"}}}],\"scatter3d\":[{\"type\":\"scatter3d\",\"line\":{\"colorbar\":{\"outlinewidth\":0,\"ticks\":\"\"}},\"marker\":{\"colorbar\":{\"outlinewidth\":0,\"ticks\":\"\"}}}],\"scattermapbox\":[{\"type\":\"scattermapbox\",\"marker\":{\"colorbar\":{\"outlinewidth\":0,\"ticks\":\"\"}}}],\"scatterternary\":[{\"type\":\"scatterternary\",\"marker\":{\"colorbar\":{\"outlinewidth\":0,\"ticks\":\"\"}}}],\"scattercarpet\":[{\"type\":\"scattercarpet\",\"marker\":{\"colorbar\":{\"outlinewidth\":0,\"ticks\":\"\"}}}],\"carpet\":[{\"aaxis\":{\"endlinecolor\":\"#2a3f5f\",\"gridcolor\":\"white\",\"linecolor\":\"white\",\"minorgridcolor\":\"white\",\"startlinecolor\":\"#2a3f5f\"},\"baxis\":{\"endlinecolor\":\"#2a3f5f\",\"gridcolor\":\"white\",\"linecolor\":\"white\",\"minorgridcolor\":\"white\",\"startlinecolor\":\"#2a3f5f\"},\"type\":\"carpet\"}],\"table\":[{\"cells\":{\"fill\":{\"color\":\"#EBF0F8\"},\"line\":{\"color\":\"white\"}},\"header\":{\"fill\":{\"color\":\"#C8D4E3\"},\"line\":{\"color\":\"white\"}},\"type\":\"table\"}],\"barpolar\":[{\"marker\":{\"line\":{\"color\":\"#E5ECF6\",\"width\":0.5},\"pattern\":{\"fillmode\":\"overlay\",\"size\":10,\"solidity\":0.2}},\"type\":\"barpolar\"}],\"pie\":[{\"automargin\":true,\"type\":\"pie\"}]},\"layout\":{\"autotypenumbers\":\"strict\",\"colorway\":[\"#636efa\",\"#EF553B\",\"#00cc96\",\"#ab63fa\",\"#FFA15A\",\"#19d3f3\",\"#FF6692\",\"#B6E880\",\"#FF97FF\",\"#FECB52\"],\"font\":{\"color\":\"#2a3f5f\"},\"hovermode\":\"closest\",\"hoverlabel\":{\"align\":\"left\"},\"paper_bgcolor\":\"white\",\"plot_bgcolor\":\"#E5ECF6\",\"polar\":{\"bgcolor\":\"#E5ECF6\",\"angularaxis\":{\"gridcolor\":\"white\",\"linecolor\":\"white\",\"ticks\":\"\"},\"radialaxis\":{\"gridcolor\":\"white\",\"linecolor\":\"white\",\"ticks\":\"\"}},\"ternary\":{\"bgcolor\":\"#E5ECF6\",\"aaxis\":{\"gridcolor\":\"white\",\"linecolor\":\"white\",\"ticks\":\"\"},\"baxis\":{\"gridcolor\":\"white\",\"linecolor\":\"white\",\"ticks\":\"\"},\"caxis\":{\"gridcolor\":\"white\",\"linecolor\":\"white\",\"ticks\":\"\"}},\"coloraxis\":{\"colorbar\":{\"outlinewidth\":0,\"ticks\":\"\"}},\"colorscale\":{\"sequential\":[[0.0,\"#0d0887\"],[0.1111111111111111,\"#46039f\"],[0.2222222222222222,\"#7201a8\"],[0.3333333333333333,\"#9c179e\"],[0.4444444444444444,\"#bd3786\"],[0.5555555555555556,\"#d8576b\"],[0.6666666666666666,\"#ed7953\"],[0.7777777777777778,\"#fb9f3a\"],[0.8888888888888888,\"#fdca26\"],[1.0,\"#f0f921\"]],\"sequentialminus\":[[0.0,\"#0d0887\"],[0.1111111111111111,\"#46039f\"],[0.2222222222222222,\"#7201a8\"],[0.3333333333333333,\"#9c179e\"],[0.4444444444444444,\"#bd3786\"],[0.5555555555555556,\"#d8576b\"],[0.6666666666666666,\"#ed7953\"],[0.7777777777777778,\"#fb9f3a\"],[0.8888888888888888,\"#fdca26\"],[1.0,\"#f0f921\"]],\"diverging\":[[0,\"#8e0152\"],[0.1,\"#c51b7d\"],[0.2,\"#de77ae\"],[0.3,\"#f1b6da\"],[0.4,\"#fde0ef\"],[0.5,\"#f7f7f7\"],[0.6,\"#e6f5d0\"],[0.7,\"#b8e186\"],[0.8,\"#7fbc41\"],[0.9,\"#4d9221\"],[1,\"#276419\"]]},\"xaxis\":{\"gridcolor\":\"white\",\"linecolor\":\"white\",\"ticks\":\"\",\"title\":{\"standoff\":15},\"zerolinecolor\":\"white\",\"automargin\":true,\"zerolinewidth\":2},\"yaxis\":{\"gridcolor\":\"white\",\"linecolor\":\"white\",\"ticks\":\"\",\"title\":{\"standoff\":15},\"zerolinecolor\":\"white\",\"automargin\":true,\"zerolinewidth\":2},\"scene\":{\"xaxis\":{\"backgroundcolor\":\"#E5ECF6\",\"gridcolor\":\"white\",\"linecolor\":\"white\",\"showbackground\":true,\"ticks\":\"\",\"zerolinecolor\":\"white\",\"gridwidth\":2},\"yaxis\":{\"backgroundcolor\":\"#E5ECF6\",\"gridcolor\":\"white\",\"linecolor\":\"white\",\"showbackground\":true,\"ticks\":\"\",\"zerolinecolor\":\"white\",\"gridwidth\":2},\"zaxis\":{\"backgroundcolor\":\"#E5ECF6\",\"gridcolor\":\"white\",\"linecolor\":\"white\",\"showbackground\":true,\"ticks\":\"\",\"zerolinecolor\":\"white\",\"gridwidth\":2}},\"shapedefaults\":{\"line\":{\"color\":\"#2a3f5f\"}},\"annotationdefaults\":{\"arrowcolor\":\"#2a3f5f\",\"arrowhead\":0,\"arrowwidth\":1},\"geo\":{\"bgcolor\":\"white\",\"landcolor\":\"#E5ECF6\",\"subunitcolor\":\"white\",\"showland\":true,\"showlakes\":true,\"lakecolor\":\"white\"},\"title\":{\"x\":0.05},\"mapbox\":{\"style\":\"light\"}}},\"xaxis\":{\"anchor\":\"y\",\"domain\":[0.0,1.0]},\"yaxis\":{\"anchor\":\"x\",\"domain\":[0.0,1.0]},\"legend\":{\"tracegroupgap\":0},\"title\":{\"text\":\"iteration\\u002fmetrics\"},\"height\":500},                        {\"responsive\": true}                    ).then(function(){\n",
              "                            \n",
              "var gd = document.getElementById('44cae5b6-557b-476a-95a3-edb24744d3b2');\n",
              "var x = new MutationObserver(function (mutations, observer) {{\n",
              "        var display = window.getComputedStyle(gd).display;\n",
              "        if (!display || display === 'none') {{\n",
              "            console.log([gd, 'removed!']);\n",
              "            Plotly.purge(gd);\n",
              "            observer.disconnect();\n",
              "        }}\n",
              "}});\n",
              "\n",
              "// Listen for the removal of the full notebook cells\n",
              "var notebookContainer = gd.closest('#notebook-container');\n",
              "if (notebookContainer) {{\n",
              "    x.observe(notebookContainer, {childList: true});\n",
              "}}\n",
              "\n",
              "// Listen for the clearing of the current output cell\n",
              "var outputEl = gd.closest('.output');\n",
              "if (outputEl) {{\n",
              "    x.observe(outputEl, {childList: true});\n",
              "}}\n",
              "\n",
              "                        })                };                            </script>        </div>\n",
              "</body>\n",
              "</html>"
            ]
          },
          "metadata": {}
        }
      ],
      "source": [
        "models = {\n",
        "    '1_trainable_layer': [px_model_1_history],\n",
        "    '2_trainable_layer': [px_model_2_history],\n",
        "}\n",
        "\n",
        "x_axis = [i for i in range(50)]\n",
        "fig = px.line(title='iteration/metrics', height=500)\n",
        "for m in models.keys():\n",
        "    fig.add_scatter(x=x_axis, y=models[m][0].history['loss'], name=f'{m}-loss')\n",
        "    fig.add_scatter(x=x_axis, y=models[m][0].history['accuracy'], name=f'{m}-accuracy')\n",
        "fig.show()"
      ]
    },
    {
      "cell_type": "markdown",
      "id": "ad1a10a3-b6a8-417e-9606-843e385e04ce",
      "metadata": {
        "id": "ad1a10a3-b6a8-417e-9606-843e385e04ce"
      },
      "source": [
        "# _______________________________"
      ]
    },
    {
      "cell_type": "code",
      "source": [],
      "metadata": {
        "id": "F_yaNtKVIZtD"
      },
      "id": "F_yaNtKVIZtD",
      "execution_count": 98,
      "outputs": []
    }
  ],
  "metadata": {
    "kernelspec": {
      "display_name": "Python 3",
      "name": "python3"
    },
    "language_info": {
      "codemirror_mode": {
        "name": "ipython",
        "version": 3
      },
      "file_extension": ".py",
      "mimetype": "text/x-python",
      "name": "python",
      "nbconvert_exporter": "python",
      "pygments_lexer": "ipython3",
      "version": "3.9.18"
    },
    "colab": {
      "provenance": [],
      "gpuType": "T4"
    },
    "accelerator": "GPU"
  },
  "nbformat": 4,
  "nbformat_minor": 5
}